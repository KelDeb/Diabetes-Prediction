{
 "cells": [
  {
   "cell_type": "markdown",
   "id": "76b8caa5",
   "metadata": {},
   "source": [
    "<h1>Classifying Diabetes</h1>\n",
    "\n",
    "In this notebook, we will go through common classification models using numeric values using the following scikit-learn models:\n",
    "\n",
    "- Logistic Regression\n",
    "- Support Vector Machine\n",
    "- Decision Tree\n",
    "- Random Forest\n",
    "- Kernal Support Vector Machine\n",
    "\n",
    "We will use the Diabetes Health Indicators dataset (diabetes_012_health_indicators_BRFSS2015.csv) in this example.\n",
    "\n",
    "<h4>Import and Visualizing the Data</h4>"
   ]
  },
  {
   "cell_type": "code",
   "execution_count": 1,
   "id": "7d3a369d",
   "metadata": {},
   "outputs": [
    {
     "name": "stdout",
     "output_type": "stream",
     "text": [
      "(14999, 22)\n"
     ]
    }
   ],
   "source": [
    "import pandas as pd\n",
    "import numpy as np\n",
    "import matplotlib.pyplot as plt\n",
    "import seaborn as sns\n",
    "\n",
    "dib = pd.read_csv(r'Diabetes 012 Health Indicators.csv')\n",
    "print(dib.shape)                          #the shape() function gives the data size (rows,columns)"
   ]
  },
  {
   "cell_type": "code",
   "execution_count": 2,
   "id": "29474b2e",
   "metadata": {},
   "outputs": [
    {
     "data": {
      "text/html": [
       "<div>\n",
       "<style scoped>\n",
       "    .dataframe tbody tr th:only-of-type {\n",
       "        vertical-align: middle;\n",
       "    }\n",
       "\n",
       "    .dataframe tbody tr th {\n",
       "        vertical-align: top;\n",
       "    }\n",
       "\n",
       "    .dataframe thead th {\n",
       "        text-align: right;\n",
       "    }\n",
       "</style>\n",
       "<table border=\"1\" class=\"dataframe\">\n",
       "  <thead>\n",
       "    <tr style=\"text-align: right;\">\n",
       "      <th></th>\n",
       "      <th>Diabetes_012</th>\n",
       "      <th>HighBP</th>\n",
       "      <th>HighChol</th>\n",
       "      <th>CholCheck</th>\n",
       "      <th>BMI</th>\n",
       "      <th>Smoker</th>\n",
       "      <th>Stroke</th>\n",
       "      <th>HeartDiseaseorAttack</th>\n",
       "      <th>PhysActivity</th>\n",
       "      <th>Fruits</th>\n",
       "      <th>...</th>\n",
       "      <th>AnyHealthcare</th>\n",
       "      <th>NoDocbcCost</th>\n",
       "      <th>GenHlth</th>\n",
       "      <th>MentHlth</th>\n",
       "      <th>PhysHlth</th>\n",
       "      <th>DiffWalk</th>\n",
       "      <th>Sex</th>\n",
       "      <th>Age</th>\n",
       "      <th>Education</th>\n",
       "      <th>Income</th>\n",
       "    </tr>\n",
       "  </thead>\n",
       "  <tbody>\n",
       "    <tr>\n",
       "      <th>0</th>\n",
       "      <td>0</td>\n",
       "      <td>1</td>\n",
       "      <td>1</td>\n",
       "      <td>1</td>\n",
       "      <td>40</td>\n",
       "      <td>1</td>\n",
       "      <td>0</td>\n",
       "      <td>0</td>\n",
       "      <td>0</td>\n",
       "      <td>0</td>\n",
       "      <td>...</td>\n",
       "      <td>1</td>\n",
       "      <td>0</td>\n",
       "      <td>5</td>\n",
       "      <td>18</td>\n",
       "      <td>15</td>\n",
       "      <td>1</td>\n",
       "      <td>0</td>\n",
       "      <td>9</td>\n",
       "      <td>4</td>\n",
       "      <td>3</td>\n",
       "    </tr>\n",
       "    <tr>\n",
       "      <th>1</th>\n",
       "      <td>0</td>\n",
       "      <td>0</td>\n",
       "      <td>0</td>\n",
       "      <td>0</td>\n",
       "      <td>25</td>\n",
       "      <td>1</td>\n",
       "      <td>0</td>\n",
       "      <td>0</td>\n",
       "      <td>1</td>\n",
       "      <td>0</td>\n",
       "      <td>...</td>\n",
       "      <td>0</td>\n",
       "      <td>1</td>\n",
       "      <td>3</td>\n",
       "      <td>0</td>\n",
       "      <td>0</td>\n",
       "      <td>0</td>\n",
       "      <td>0</td>\n",
       "      <td>7</td>\n",
       "      <td>6</td>\n",
       "      <td>1</td>\n",
       "    </tr>\n",
       "    <tr>\n",
       "      <th>2</th>\n",
       "      <td>0</td>\n",
       "      <td>1</td>\n",
       "      <td>1</td>\n",
       "      <td>1</td>\n",
       "      <td>28</td>\n",
       "      <td>0</td>\n",
       "      <td>0</td>\n",
       "      <td>0</td>\n",
       "      <td>0</td>\n",
       "      <td>1</td>\n",
       "      <td>...</td>\n",
       "      <td>1</td>\n",
       "      <td>1</td>\n",
       "      <td>5</td>\n",
       "      <td>30</td>\n",
       "      <td>30</td>\n",
       "      <td>1</td>\n",
       "      <td>0</td>\n",
       "      <td>9</td>\n",
       "      <td>4</td>\n",
       "      <td>8</td>\n",
       "    </tr>\n",
       "    <tr>\n",
       "      <th>3</th>\n",
       "      <td>0</td>\n",
       "      <td>1</td>\n",
       "      <td>0</td>\n",
       "      <td>1</td>\n",
       "      <td>27</td>\n",
       "      <td>0</td>\n",
       "      <td>0</td>\n",
       "      <td>0</td>\n",
       "      <td>1</td>\n",
       "      <td>1</td>\n",
       "      <td>...</td>\n",
       "      <td>1</td>\n",
       "      <td>0</td>\n",
       "      <td>2</td>\n",
       "      <td>0</td>\n",
       "      <td>0</td>\n",
       "      <td>0</td>\n",
       "      <td>0</td>\n",
       "      <td>11</td>\n",
       "      <td>3</td>\n",
       "      <td>6</td>\n",
       "    </tr>\n",
       "    <tr>\n",
       "      <th>4</th>\n",
       "      <td>0</td>\n",
       "      <td>1</td>\n",
       "      <td>1</td>\n",
       "      <td>1</td>\n",
       "      <td>24</td>\n",
       "      <td>0</td>\n",
       "      <td>0</td>\n",
       "      <td>0</td>\n",
       "      <td>1</td>\n",
       "      <td>1</td>\n",
       "      <td>...</td>\n",
       "      <td>1</td>\n",
       "      <td>0</td>\n",
       "      <td>2</td>\n",
       "      <td>3</td>\n",
       "      <td>0</td>\n",
       "      <td>0</td>\n",
       "      <td>0</td>\n",
       "      <td>11</td>\n",
       "      <td>5</td>\n",
       "      <td>4</td>\n",
       "    </tr>\n",
       "  </tbody>\n",
       "</table>\n",
       "<p>5 rows × 22 columns</p>\n",
       "</div>"
      ],
      "text/plain": [
       "   Diabetes_012  HighBP  HighChol  CholCheck  BMI  Smoker  Stroke  \\\n",
       "0             0       1         1          1   40       1       0   \n",
       "1             0       0         0          0   25       1       0   \n",
       "2             0       1         1          1   28       0       0   \n",
       "3             0       1         0          1   27       0       0   \n",
       "4             0       1         1          1   24       0       0   \n",
       "\n",
       "   HeartDiseaseorAttack  PhysActivity  Fruits  ...  AnyHealthcare  \\\n",
       "0                     0             0       0  ...              1   \n",
       "1                     0             1       0  ...              0   \n",
       "2                     0             0       1  ...              1   \n",
       "3                     0             1       1  ...              1   \n",
       "4                     0             1       1  ...              1   \n",
       "\n",
       "   NoDocbcCost  GenHlth  MentHlth  PhysHlth  DiffWalk  Sex  Age  Education  \\\n",
       "0            0        5        18        15         1    0    9          4   \n",
       "1            1        3         0         0         0    0    7          6   \n",
       "2            1        5        30        30         1    0    9          4   \n",
       "3            0        2         0         0         0    0   11          3   \n",
       "4            0        2         3         0         0    0   11          5   \n",
       "\n",
       "   Income  \n",
       "0       3  \n",
       "1       1  \n",
       "2       8  \n",
       "3       6  \n",
       "4       4  \n",
       "\n",
       "[5 rows x 22 columns]"
      ]
     },
     "execution_count": 2,
     "metadata": {},
     "output_type": "execute_result"
    }
   ],
   "source": [
    "dib.head()"
   ]
  },
  {
   "cell_type": "code",
   "execution_count": 3,
   "id": "83983499",
   "metadata": {},
   "outputs": [
    {
     "name": "stdout",
     "output_type": "stream",
     "text": [
      "<class 'pandas.core.frame.DataFrame'>\n",
      "RangeIndex: 14999 entries, 0 to 14998\n",
      "Data columns (total 22 columns):\n",
      " #   Column                Non-Null Count  Dtype\n",
      "---  ------                --------------  -----\n",
      " 0   Diabetes_012          14999 non-null  int64\n",
      " 1   HighBP                14999 non-null  int64\n",
      " 2   HighChol              14999 non-null  int64\n",
      " 3   CholCheck             14999 non-null  int64\n",
      " 4   BMI                   14999 non-null  int64\n",
      " 5   Smoker                14999 non-null  int64\n",
      " 6   Stroke                14999 non-null  int64\n",
      " 7   HeartDiseaseorAttack  14999 non-null  int64\n",
      " 8   PhysActivity          14999 non-null  int64\n",
      " 9   Fruits                14999 non-null  int64\n",
      " 10  Veggies               14999 non-null  int64\n",
      " 11  HvyAlcoholConsump     14999 non-null  int64\n",
      " 12  AnyHealthcare         14999 non-null  int64\n",
      " 13  NoDocbcCost           14999 non-null  int64\n",
      " 14  GenHlth               14999 non-null  int64\n",
      " 15  MentHlth              14999 non-null  int64\n",
      " 16  PhysHlth              14999 non-null  int64\n",
      " 17  DiffWalk              14999 non-null  int64\n",
      " 18  Sex                   14999 non-null  int64\n",
      " 19  Age                   14999 non-null  int64\n",
      " 20  Education             14999 non-null  int64\n",
      " 21  Income                14999 non-null  int64\n",
      "dtypes: int64(22)\n",
      "memory usage: 2.5 MB\n"
     ]
    }
   ],
   "source": [
    "dib.info()\n",
    "#This line is to describes null values, data type, memory usage"
   ]
  },
  {
   "cell_type": "code",
   "execution_count": 4,
   "id": "77b63c79",
   "metadata": {},
   "outputs": [
    {
     "data": {
      "text/html": [
       "<div>\n",
       "<style scoped>\n",
       "    .dataframe tbody tr th:only-of-type {\n",
       "        vertical-align: middle;\n",
       "    }\n",
       "\n",
       "    .dataframe tbody tr th {\n",
       "        vertical-align: top;\n",
       "    }\n",
       "\n",
       "    .dataframe thead th {\n",
       "        text-align: right;\n",
       "    }\n",
       "</style>\n",
       "<table border=\"1\" class=\"dataframe\">\n",
       "  <thead>\n",
       "    <tr style=\"text-align: right;\">\n",
       "      <th></th>\n",
       "      <th>Diabetes_012</th>\n",
       "      <th>HighBP</th>\n",
       "      <th>HighChol</th>\n",
       "      <th>CholCheck</th>\n",
       "      <th>BMI</th>\n",
       "      <th>Smoker</th>\n",
       "      <th>Stroke</th>\n",
       "      <th>HeartDiseaseorAttack</th>\n",
       "      <th>PhysActivity</th>\n",
       "      <th>Fruits</th>\n",
       "      <th>...</th>\n",
       "      <th>AnyHealthcare</th>\n",
       "      <th>NoDocbcCost</th>\n",
       "      <th>GenHlth</th>\n",
       "      <th>MentHlth</th>\n",
       "      <th>PhysHlth</th>\n",
       "      <th>DiffWalk</th>\n",
       "      <th>Sex</th>\n",
       "      <th>Age</th>\n",
       "      <th>Education</th>\n",
       "      <th>Income</th>\n",
       "    </tr>\n",
       "  </thead>\n",
       "  <tbody>\n",
       "    <tr>\n",
       "      <th>count</th>\n",
       "      <td>14999.000000</td>\n",
       "      <td>14999.000000</td>\n",
       "      <td>14999.000000</td>\n",
       "      <td>14999.000000</td>\n",
       "      <td>14999.000000</td>\n",
       "      <td>14999.000000</td>\n",
       "      <td>14999.000000</td>\n",
       "      <td>14999.000000</td>\n",
       "      <td>14999.000000</td>\n",
       "      <td>14999.000000</td>\n",
       "      <td>...</td>\n",
       "      <td>14999.000000</td>\n",
       "      <td>14999.000000</td>\n",
       "      <td>14999.000000</td>\n",
       "      <td>14999.000000</td>\n",
       "      <td>14999.000000</td>\n",
       "      <td>14999.000000</td>\n",
       "      <td>14999.000000</td>\n",
       "      <td>14999.000000</td>\n",
       "      <td>14999.000000</td>\n",
       "      <td>14999.000000</td>\n",
       "    </tr>\n",
       "    <tr>\n",
       "      <th>mean</th>\n",
       "      <td>0.342356</td>\n",
       "      <td>0.469765</td>\n",
       "      <td>0.450363</td>\n",
       "      <td>0.962531</td>\n",
       "      <td>28.577905</td>\n",
       "      <td>0.451963</td>\n",
       "      <td>0.049470</td>\n",
       "      <td>0.107007</td>\n",
       "      <td>0.734182</td>\n",
       "      <td>0.602907</td>\n",
       "      <td>...</td>\n",
       "      <td>0.944063</td>\n",
       "      <td>0.100207</td>\n",
       "      <td>2.619975</td>\n",
       "      <td>3.523368</td>\n",
       "      <td>4.840989</td>\n",
       "      <td>0.203680</td>\n",
       "      <td>0.415561</td>\n",
       "      <td>8.234482</td>\n",
       "      <td>4.995666</td>\n",
       "      <td>5.860857</td>\n",
       "    </tr>\n",
       "    <tr>\n",
       "      <th>std</th>\n",
       "      <td>0.741085</td>\n",
       "      <td>0.499102</td>\n",
       "      <td>0.497547</td>\n",
       "      <td>0.189915</td>\n",
       "      <td>6.407562</td>\n",
       "      <td>0.497704</td>\n",
       "      <td>0.216854</td>\n",
       "      <td>0.309133</td>\n",
       "      <td>0.441782</td>\n",
       "      <td>0.489312</td>\n",
       "      <td>...</td>\n",
       "      <td>0.229808</td>\n",
       "      <td>0.300285</td>\n",
       "      <td>1.115477</td>\n",
       "      <td>7.843463</td>\n",
       "      <td>9.232241</td>\n",
       "      <td>0.402747</td>\n",
       "      <td>0.492835</td>\n",
       "      <td>2.998136</td>\n",
       "      <td>1.003419</td>\n",
       "      <td>2.139654</td>\n",
       "    </tr>\n",
       "    <tr>\n",
       "      <th>min</th>\n",
       "      <td>0.000000</td>\n",
       "      <td>0.000000</td>\n",
       "      <td>0.000000</td>\n",
       "      <td>0.000000</td>\n",
       "      <td>14.000000</td>\n",
       "      <td>0.000000</td>\n",
       "      <td>0.000000</td>\n",
       "      <td>0.000000</td>\n",
       "      <td>0.000000</td>\n",
       "      <td>0.000000</td>\n",
       "      <td>...</td>\n",
       "      <td>0.000000</td>\n",
       "      <td>0.000000</td>\n",
       "      <td>1.000000</td>\n",
       "      <td>0.000000</td>\n",
       "      <td>0.000000</td>\n",
       "      <td>0.000000</td>\n",
       "      <td>0.000000</td>\n",
       "      <td>1.000000</td>\n",
       "      <td>1.000000</td>\n",
       "      <td>1.000000</td>\n",
       "    </tr>\n",
       "    <tr>\n",
       "      <th>25%</th>\n",
       "      <td>0.000000</td>\n",
       "      <td>0.000000</td>\n",
       "      <td>0.000000</td>\n",
       "      <td>1.000000</td>\n",
       "      <td>24.000000</td>\n",
       "      <td>0.000000</td>\n",
       "      <td>0.000000</td>\n",
       "      <td>0.000000</td>\n",
       "      <td>0.000000</td>\n",
       "      <td>0.000000</td>\n",
       "      <td>...</td>\n",
       "      <td>1.000000</td>\n",
       "      <td>0.000000</td>\n",
       "      <td>2.000000</td>\n",
       "      <td>0.000000</td>\n",
       "      <td>0.000000</td>\n",
       "      <td>0.000000</td>\n",
       "      <td>0.000000</td>\n",
       "      <td>6.000000</td>\n",
       "      <td>4.000000</td>\n",
       "      <td>4.000000</td>\n",
       "    </tr>\n",
       "    <tr>\n",
       "      <th>50%</th>\n",
       "      <td>0.000000</td>\n",
       "      <td>0.000000</td>\n",
       "      <td>0.000000</td>\n",
       "      <td>1.000000</td>\n",
       "      <td>27.000000</td>\n",
       "      <td>0.000000</td>\n",
       "      <td>0.000000</td>\n",
       "      <td>0.000000</td>\n",
       "      <td>1.000000</td>\n",
       "      <td>1.000000</td>\n",
       "      <td>...</td>\n",
       "      <td>1.000000</td>\n",
       "      <td>0.000000</td>\n",
       "      <td>3.000000</td>\n",
       "      <td>0.000000</td>\n",
       "      <td>0.000000</td>\n",
       "      <td>0.000000</td>\n",
       "      <td>0.000000</td>\n",
       "      <td>9.000000</td>\n",
       "      <td>5.000000</td>\n",
       "      <td>6.000000</td>\n",
       "    </tr>\n",
       "    <tr>\n",
       "      <th>75%</th>\n",
       "      <td>0.000000</td>\n",
       "      <td>1.000000</td>\n",
       "      <td>1.000000</td>\n",
       "      <td>1.000000</td>\n",
       "      <td>32.000000</td>\n",
       "      <td>1.000000</td>\n",
       "      <td>0.000000</td>\n",
       "      <td>0.000000</td>\n",
       "      <td>1.000000</td>\n",
       "      <td>1.000000</td>\n",
       "      <td>...</td>\n",
       "      <td>1.000000</td>\n",
       "      <td>0.000000</td>\n",
       "      <td>3.000000</td>\n",
       "      <td>2.000000</td>\n",
       "      <td>4.000000</td>\n",
       "      <td>0.000000</td>\n",
       "      <td>1.000000</td>\n",
       "      <td>10.000000</td>\n",
       "      <td>6.000000</td>\n",
       "      <td>8.000000</td>\n",
       "    </tr>\n",
       "    <tr>\n",
       "      <th>max</th>\n",
       "      <td>2.000000</td>\n",
       "      <td>1.000000</td>\n",
       "      <td>1.000000</td>\n",
       "      <td>1.000000</td>\n",
       "      <td>85.000000</td>\n",
       "      <td>1.000000</td>\n",
       "      <td>1.000000</td>\n",
       "      <td>1.000000</td>\n",
       "      <td>1.000000</td>\n",
       "      <td>1.000000</td>\n",
       "      <td>...</td>\n",
       "      <td>1.000000</td>\n",
       "      <td>1.000000</td>\n",
       "      <td>5.000000</td>\n",
       "      <td>30.000000</td>\n",
       "      <td>30.000000</td>\n",
       "      <td>1.000000</td>\n",
       "      <td>1.000000</td>\n",
       "      <td>13.000000</td>\n",
       "      <td>6.000000</td>\n",
       "      <td>8.000000</td>\n",
       "    </tr>\n",
       "  </tbody>\n",
       "</table>\n",
       "<p>8 rows × 22 columns</p>\n",
       "</div>"
      ],
      "text/plain": [
       "       Diabetes_012        HighBP      HighChol     CholCheck           BMI  \\\n",
       "count  14999.000000  14999.000000  14999.000000  14999.000000  14999.000000   \n",
       "mean       0.342356      0.469765      0.450363      0.962531     28.577905   \n",
       "std        0.741085      0.499102      0.497547      0.189915      6.407562   \n",
       "min        0.000000      0.000000      0.000000      0.000000     14.000000   \n",
       "25%        0.000000      0.000000      0.000000      1.000000     24.000000   \n",
       "50%        0.000000      0.000000      0.000000      1.000000     27.000000   \n",
       "75%        0.000000      1.000000      1.000000      1.000000     32.000000   \n",
       "max        2.000000      1.000000      1.000000      1.000000     85.000000   \n",
       "\n",
       "             Smoker        Stroke  HeartDiseaseorAttack  PhysActivity  \\\n",
       "count  14999.000000  14999.000000          14999.000000  14999.000000   \n",
       "mean       0.451963      0.049470              0.107007      0.734182   \n",
       "std        0.497704      0.216854              0.309133      0.441782   \n",
       "min        0.000000      0.000000              0.000000      0.000000   \n",
       "25%        0.000000      0.000000              0.000000      0.000000   \n",
       "50%        0.000000      0.000000              0.000000      1.000000   \n",
       "75%        1.000000      0.000000              0.000000      1.000000   \n",
       "max        1.000000      1.000000              1.000000      1.000000   \n",
       "\n",
       "             Fruits  ...  AnyHealthcare   NoDocbcCost       GenHlth  \\\n",
       "count  14999.000000  ...   14999.000000  14999.000000  14999.000000   \n",
       "mean       0.602907  ...       0.944063      0.100207      2.619975   \n",
       "std        0.489312  ...       0.229808      0.300285      1.115477   \n",
       "min        0.000000  ...       0.000000      0.000000      1.000000   \n",
       "25%        0.000000  ...       1.000000      0.000000      2.000000   \n",
       "50%        1.000000  ...       1.000000      0.000000      3.000000   \n",
       "75%        1.000000  ...       1.000000      0.000000      3.000000   \n",
       "max        1.000000  ...       1.000000      1.000000      5.000000   \n",
       "\n",
       "           MentHlth      PhysHlth      DiffWalk           Sex           Age  \\\n",
       "count  14999.000000  14999.000000  14999.000000  14999.000000  14999.000000   \n",
       "mean       3.523368      4.840989      0.203680      0.415561      8.234482   \n",
       "std        7.843463      9.232241      0.402747      0.492835      2.998136   \n",
       "min        0.000000      0.000000      0.000000      0.000000      1.000000   \n",
       "25%        0.000000      0.000000      0.000000      0.000000      6.000000   \n",
       "50%        0.000000      0.000000      0.000000      0.000000      9.000000   \n",
       "75%        2.000000      4.000000      0.000000      1.000000     10.000000   \n",
       "max       30.000000     30.000000      1.000000      1.000000     13.000000   \n",
       "\n",
       "          Education        Income  \n",
       "count  14999.000000  14999.000000  \n",
       "mean       4.995666      5.860857  \n",
       "std        1.003419      2.139654  \n",
       "min        1.000000      1.000000  \n",
       "25%        4.000000      4.000000  \n",
       "50%        5.000000      6.000000  \n",
       "75%        6.000000      8.000000  \n",
       "max        6.000000      8.000000  \n",
       "\n",
       "[8 rows x 22 columns]"
      ]
     },
     "execution_count": 4,
     "metadata": {},
     "output_type": "execute_result"
    }
   ],
   "source": [
    "dib.describe()\n",
    "#Computes a summary of statistics pertaining to the DataFrame columns."
   ]
  },
  {
   "cell_type": "markdown",
   "id": "19e9b384",
   "metadata": {},
   "source": [
    "When we split the sample into a training set and a test set we need to make sure that the distribution of the different income groups is maintained in the subsamples. \n",
    "\n",
    "We want to avoid any situation where we have, richer households in the training sample and relatively poorer households in the testing sample. \n",
    "\n",
    "We can accomplish this with stratified sampling. The built in command StratifiedShuffleSplit will split the data ensuring that the distribution is maintained."
   ]
  },
  {
   "cell_type": "code",
   "execution_count": 5,
   "id": "824f5c51",
   "metadata": {},
   "outputs": [
    {
     "data": {
      "image/png": "[encoded data removed]",
      "text/plain": [
       "<Figure size 1080x1080 with 25 Axes>"
      ]
     },
     "metadata": {
      "needs_background": "light"
     },
     "output_type": "display_data"
    }
   ],
   "source": [
    "from matplotlib import pyplot as plt\n",
    "\n",
    "dib.hist(bins=20, figsize=(15,15))\n",
    "plt.show()\n",
    "\n",
    "#We next start with analyzing our data using graphs and simple statistics of each column."
   ]
  },
  {
   "cell_type": "code",
   "execution_count": 6,
   "id": "29a8a19c",
   "metadata": {},
   "outputs": [
    {
     "name": "stdout",
     "output_type": "stream",
     "text": [
      "Percentage of Patients Are Healthy: 81.97%\n",
      "Percentage of Patients Have Pre-Diabetic: 1.83%\n",
      "Percentage of Patients Have Diabetic: 16.20%\n"
     ]
    }
   ],
   "source": [
    "#Renaming Diabetes type from int to string for better consistency\n",
    "dib['Diabetes_Type'] = dib['Diabetes_012'].replace({0.0:'Healthy', 1.0:'Pre-diabetic', 2.0:'Diabetic'})\n",
    "\n",
    "countHealthy = len(dib[dib.Diabetes_012 == 0])\n",
    "countHavePreDiabetic = len(dib[dib.Diabetes_012 == 1])\n",
    "countDiabteic = len(dib[dib.Diabetes_012 == 2])\n",
    "print(\"Percentage of Patients Are Healthy: {:.2f}%\".format((countHealthy / (len(dib.Diabetes_012))*100)))\n",
    "print(\"Percentage of Patients Have Pre-Diabetic: {:.2f}%\".format((countHavePreDiabetic / (len(dib.Diabetes_012))*100)))\n",
    "print(\"Percentage of Patients Have Diabetic: {:.2f}%\".format((countDiabteic / (len(dib.Diabetes_012))*100)))"
   ]
  },
  {
   "cell_type": "code",
   "execution_count": 7,
   "id": "8d56ee36",
   "metadata": {},
   "outputs": [
    {
     "data": {
      "text/html": [
       "<div>\n",
       "<style scoped>\n",
       "    .dataframe tbody tr th:only-of-type {\n",
       "        vertical-align: middle;\n",
       "    }\n",
       "\n",
       "    .dataframe tbody tr th {\n",
       "        vertical-align: top;\n",
       "    }\n",
       "\n",
       "    .dataframe thead th {\n",
       "        text-align: right;\n",
       "    }\n",
       "</style>\n",
       "<table border=\"1\" class=\"dataframe\">\n",
       "  <thead>\n",
       "    <tr style=\"text-align: right;\">\n",
       "      <th></th>\n",
       "      <th>Diabetes_012</th>\n",
       "      <th>HighBP</th>\n",
       "      <th>HighChol</th>\n",
       "      <th>CholCheck</th>\n",
       "      <th>BMI</th>\n",
       "      <th>Smoker</th>\n",
       "      <th>Stroke</th>\n",
       "      <th>HeartDiseaseorAttack</th>\n",
       "      <th>PhysActivity</th>\n",
       "      <th>Fruits</th>\n",
       "      <th>...</th>\n",
       "      <th>NoDocbcCost</th>\n",
       "      <th>GenHlth</th>\n",
       "      <th>MentHlth</th>\n",
       "      <th>PhysHlth</th>\n",
       "      <th>DiffWalk</th>\n",
       "      <th>Sex</th>\n",
       "      <th>Age</th>\n",
       "      <th>Education</th>\n",
       "      <th>Income</th>\n",
       "      <th>Diabetes_Type</th>\n",
       "    </tr>\n",
       "  </thead>\n",
       "  <tbody>\n",
       "    <tr>\n",
       "      <th>0</th>\n",
       "      <td>0</td>\n",
       "      <td>1</td>\n",
       "      <td>1</td>\n",
       "      <td>1</td>\n",
       "      <td>40</td>\n",
       "      <td>1</td>\n",
       "      <td>0</td>\n",
       "      <td>0</td>\n",
       "      <td>0</td>\n",
       "      <td>0</td>\n",
       "      <td>...</td>\n",
       "      <td>0</td>\n",
       "      <td>5</td>\n",
       "      <td>18</td>\n",
       "      <td>15</td>\n",
       "      <td>1</td>\n",
       "      <td>0</td>\n",
       "      <td>9</td>\n",
       "      <td>4</td>\n",
       "      <td>3</td>\n",
       "      <td>Healthy</td>\n",
       "    </tr>\n",
       "    <tr>\n",
       "      <th>1</th>\n",
       "      <td>0</td>\n",
       "      <td>0</td>\n",
       "      <td>0</td>\n",
       "      <td>0</td>\n",
       "      <td>25</td>\n",
       "      <td>1</td>\n",
       "      <td>0</td>\n",
       "      <td>0</td>\n",
       "      <td>1</td>\n",
       "      <td>0</td>\n",
       "      <td>...</td>\n",
       "      <td>1</td>\n",
       "      <td>3</td>\n",
       "      <td>0</td>\n",
       "      <td>0</td>\n",
       "      <td>0</td>\n",
       "      <td>0</td>\n",
       "      <td>7</td>\n",
       "      <td>6</td>\n",
       "      <td>1</td>\n",
       "      <td>Healthy</td>\n",
       "    </tr>\n",
       "    <tr>\n",
       "      <th>2</th>\n",
       "      <td>0</td>\n",
       "      <td>1</td>\n",
       "      <td>1</td>\n",
       "      <td>1</td>\n",
       "      <td>28</td>\n",
       "      <td>0</td>\n",
       "      <td>0</td>\n",
       "      <td>0</td>\n",
       "      <td>0</td>\n",
       "      <td>1</td>\n",
       "      <td>...</td>\n",
       "      <td>1</td>\n",
       "      <td>5</td>\n",
       "      <td>30</td>\n",
       "      <td>30</td>\n",
       "      <td>1</td>\n",
       "      <td>0</td>\n",
       "      <td>9</td>\n",
       "      <td>4</td>\n",
       "      <td>8</td>\n",
       "      <td>Healthy</td>\n",
       "    </tr>\n",
       "    <tr>\n",
       "      <th>3</th>\n",
       "      <td>0</td>\n",
       "      <td>1</td>\n",
       "      <td>0</td>\n",
       "      <td>1</td>\n",
       "      <td>27</td>\n",
       "      <td>0</td>\n",
       "      <td>0</td>\n",
       "      <td>0</td>\n",
       "      <td>1</td>\n",
       "      <td>1</td>\n",
       "      <td>...</td>\n",
       "      <td>0</td>\n",
       "      <td>2</td>\n",
       "      <td>0</td>\n",
       "      <td>0</td>\n",
       "      <td>0</td>\n",
       "      <td>0</td>\n",
       "      <td>11</td>\n",
       "      <td>3</td>\n",
       "      <td>6</td>\n",
       "      <td>Healthy</td>\n",
       "    </tr>\n",
       "    <tr>\n",
       "      <th>4</th>\n",
       "      <td>0</td>\n",
       "      <td>1</td>\n",
       "      <td>1</td>\n",
       "      <td>1</td>\n",
       "      <td>24</td>\n",
       "      <td>0</td>\n",
       "      <td>0</td>\n",
       "      <td>0</td>\n",
       "      <td>1</td>\n",
       "      <td>1</td>\n",
       "      <td>...</td>\n",
       "      <td>0</td>\n",
       "      <td>2</td>\n",
       "      <td>3</td>\n",
       "      <td>0</td>\n",
       "      <td>0</td>\n",
       "      <td>0</td>\n",
       "      <td>11</td>\n",
       "      <td>5</td>\n",
       "      <td>4</td>\n",
       "      <td>Healthy</td>\n",
       "    </tr>\n",
       "  </tbody>\n",
       "</table>\n",
       "<p>5 rows × 23 columns</p>\n",
       "</div>"
      ],
      "text/plain": [
       "   Diabetes_012  HighBP  HighChol  CholCheck  BMI  Smoker  Stroke  \\\n",
       "0             0       1         1          1   40       1       0   \n",
       "1             0       0         0          0   25       1       0   \n",
       "2             0       1         1          1   28       0       0   \n",
       "3             0       1         0          1   27       0       0   \n",
       "4             0       1         1          1   24       0       0   \n",
       "\n",
       "   HeartDiseaseorAttack  PhysActivity  Fruits  ...  NoDocbcCost  GenHlth  \\\n",
       "0                     0             0       0  ...            0        5   \n",
       "1                     0             1       0  ...            1        3   \n",
       "2                     0             0       1  ...            1        5   \n",
       "3                     0             1       1  ...            0        2   \n",
       "4                     0             1       1  ...            0        2   \n",
       "\n",
       "   MentHlth  PhysHlth  DiffWalk  Sex  Age  Education  Income  Diabetes_Type  \n",
       "0        18        15         1    0    9          4       3        Healthy  \n",
       "1         0         0         0    0    7          6       1        Healthy  \n",
       "2        30        30         1    0    9          4       8        Healthy  \n",
       "3         0         0         0    0   11          3       6        Healthy  \n",
       "4         3         0         0    0   11          5       4        Healthy  \n",
       "\n",
       "[5 rows x 23 columns]"
      ]
     },
     "execution_count": 7,
     "metadata": {},
     "output_type": "execute_result"
    }
   ],
   "source": [
    "#Diabetes string added an additional column to show diabetes status. Instead of 22 rows, we now have 23\n",
    "dib.head()"
   ]
  },
  {
   "cell_type": "code",
   "execution_count": 8,
   "id": "9ce45562",
   "metadata": {},
   "outputs": [
    {
     "data": {
      "text/plain": [
       "Diabetes_Type\n",
       "Diabetic         2430\n",
       "Healthy         12294\n",
       "Pre-diabetic      275\n",
       "dtype: int64"
      ]
     },
     "execution_count": 8,
     "metadata": {},
     "output_type": "execute_result"
    }
   ],
   "source": [
    "#Check how many respondents have no diabetes (0), prediabetes (1) or diabetes (2). Note the class imbalance!\n",
    "dib.groupby(['Diabetes_Type']).size()"
   ]
  },
  {
   "cell_type": "code",
   "execution_count": 9,
   "id": "272dc111",
   "metadata": {},
   "outputs": [
    {
     "name": "stderr",
     "output_type": "stream",
     "text": [
      "C:\\Users\\prite\\anaconda3\\anaconda3-new2\\lib\\site-packages\\seaborn\\_decorators.py:36: FutureWarning: Pass the following variable as a keyword arg: x. From version 0.12, the only valid positional argument will be `data`, and passing other arguments without an explicit keyword will result in an error or misinterpretation.\n",
      "  warnings.warn(\n"
     ]
    },
    {
     "data": {
      "text/plain": [
       "<AxesSubplot:ylabel='Diabetes_012'>"
      ]
     },
     "execution_count": 9,
     "metadata": {},
     "output_type": "execute_result"
    },
    {
     "data": {
      "image/png": "[encoded data removed]",
      "text/plain": [
       "<Figure size 576x576 with 2 Axes>"
      ]
     },
     "metadata": {
      "needs_background": "light"
     },
     "output_type": "display_data"
    }
   ],
   "source": [
    "# countplot----Plot the frequency of the Diabetes_012\n",
    "\n",
    "fig1, ax1 = plt.subplots(1,2,figsize=(8,8))\n",
    "\n",
    "#It shows the count of observations in each categorical bin using bars\n",
    "\n",
    "sns.countplot(dib['Diabetes_Type'],ax=ax1[0])\n",
    "\n",
    "#Find the % of diabetic and Healthy person\n",
    "\n",
    "labels = 'Healthy','Diabetic', 'Pre-Diabetic'\n",
    "\n",
    "dib.Diabetes_012.value_counts().plot.pie(labels=labels, autopct='%1.1f%%',shadow=True, startangle=90)"
   ]
  },
  {
   "cell_type": "code",
   "execution_count": 10,
   "id": "44361bf6",
   "metadata": {},
   "outputs": [
    {
     "data": {
      "text/html": [
       "<div>\n",
       "<style scoped>\n",
       "    .dataframe tbody tr th:only-of-type {\n",
       "        vertical-align: middle;\n",
       "    }\n",
       "\n",
       "    .dataframe tbody tr th {\n",
       "        vertical-align: top;\n",
       "    }\n",
       "\n",
       "    .dataframe thead th {\n",
       "        text-align: right;\n",
       "    }\n",
       "</style>\n",
       "<table border=\"1\" class=\"dataframe\">\n",
       "  <thead>\n",
       "    <tr style=\"text-align: right;\">\n",
       "      <th>HighBP</th>\n",
       "      <th>0</th>\n",
       "      <th>1</th>\n",
       "    </tr>\n",
       "    <tr>\n",
       "      <th>Diabetes_Type</th>\n",
       "      <th></th>\n",
       "      <th></th>\n",
       "    </tr>\n",
       "  </thead>\n",
       "  <tbody>\n",
       "    <tr>\n",
       "      <th>Diabetic</th>\n",
       "      <td>575</td>\n",
       "      <td>1855</td>\n",
       "    </tr>\n",
       "    <tr>\n",
       "      <th>Healthy</th>\n",
       "      <td>7269</td>\n",
       "      <td>5025</td>\n",
       "    </tr>\n",
       "    <tr>\n",
       "      <th>Pre-diabetic</th>\n",
       "      <td>109</td>\n",
       "      <td>166</td>\n",
       "    </tr>\n",
       "  </tbody>\n",
       "</table>\n",
       "</div>"
      ],
      "text/plain": [
       "HighBP            0     1\n",
       "Diabetes_Type            \n",
       "Diabetic        575  1855\n",
       "Healthy        7269  5025\n",
       "Pre-diabetic    109   166"
      ]
     },
     "execution_count": 10,
     "metadata": {},
     "output_type": "execute_result"
    },
    {
     "data": {
      "image/png": "[encoded data removed]",
      "text/plain": [
       "<Figure size 432x288 with 1 Axes>"
      ]
     },
     "metadata": {
      "needs_background": "light"
     },
     "output_type": "display_data"
    }
   ],
   "source": [
    "pd.crosstab(dib.HighBP, dib.Diabetes_Type).plot(kind = 'bar')\n",
    "plt.title(\"Diabetes vs HighBP\")\n",
    "pd.crosstab(dib[\"Diabetes_Type\"], dib[\"HighBP\"])"
   ]
  },
  {
   "cell_type": "markdown",
   "id": "f3bc384f",
   "metadata": {},
   "source": [
    "0 = no high BP; 1 = high BP"
   ]
  },
  {
   "cell_type": "code",
   "execution_count": 11,
   "id": "c69548a1",
   "metadata": {},
   "outputs": [
    {
     "data": {
      "text/html": [
       "<div>\n",
       "<style scoped>\n",
       "    .dataframe tbody tr th:only-of-type {\n",
       "        vertical-align: middle;\n",
       "    }\n",
       "\n",
       "    .dataframe tbody tr th {\n",
       "        vertical-align: top;\n",
       "    }\n",
       "\n",
       "    .dataframe thead th {\n",
       "        text-align: right;\n",
       "    }\n",
       "</style>\n",
       "<table border=\"1\" class=\"dataframe\">\n",
       "  <thead>\n",
       "    <tr style=\"text-align: right;\">\n",
       "      <th>HighChol</th>\n",
       "      <th>0</th>\n",
       "      <th>1</th>\n",
       "    </tr>\n",
       "    <tr>\n",
       "      <th>Diabetes_Type</th>\n",
       "      <th></th>\n",
       "      <th></th>\n",
       "    </tr>\n",
       "  </thead>\n",
       "  <tbody>\n",
       "    <tr>\n",
       "      <th>Diabetic</th>\n",
       "      <td>773</td>\n",
       "      <td>1657</td>\n",
       "    </tr>\n",
       "    <tr>\n",
       "      <th>Healthy</th>\n",
       "      <td>7376</td>\n",
       "      <td>4918</td>\n",
       "    </tr>\n",
       "    <tr>\n",
       "      <th>Pre-diabetic</th>\n",
       "      <td>95</td>\n",
       "      <td>180</td>\n",
       "    </tr>\n",
       "  </tbody>\n",
       "</table>\n",
       "</div>"
      ],
      "text/plain": [
       "HighChol          0     1\n",
       "Diabetes_Type            \n",
       "Diabetic        773  1657\n",
       "Healthy        7376  4918\n",
       "Pre-diabetic     95   180"
      ]
     },
     "execution_count": 11,
     "metadata": {},
     "output_type": "execute_result"
    },
    {
     "data": {
      "image/png": "[encoded data removed]",
      "text/plain": [
       "<Figure size 432x288 with 1 Axes>"
      ]
     },
     "metadata": {
      "needs_background": "light"
     },
     "output_type": "display_data"
    }
   ],
   "source": [
    "pd.crosstab(dib.HighChol , dib.Diabetes_Type).plot(kind = 'bar')\n",
    "plt.title(\"Diabetes vs HighChol\")\n",
    "pd.crosstab(dib[\"Diabetes_Type\"], dib[\"HighChol\"])"
   ]
  },
  {
   "cell_type": "markdown",
   "id": "0cb0aae0",
   "metadata": {},
   "source": [
    "0 = no high cholesterol; 1 = high cholesterol"
   ]
  },
  {
   "cell_type": "code",
   "execution_count": 12,
   "id": "2192238f",
   "metadata": {},
   "outputs": [
    {
     "data": {
      "text/html": [
       "<div>\n",
       "<style scoped>\n",
       "    .dataframe tbody tr th:only-of-type {\n",
       "        vertical-align: middle;\n",
       "    }\n",
       "\n",
       "    .dataframe tbody tr th {\n",
       "        vertical-align: top;\n",
       "    }\n",
       "\n",
       "    .dataframe thead th {\n",
       "        text-align: right;\n",
       "    }\n",
       "</style>\n",
       "<table border=\"1\" class=\"dataframe\">\n",
       "  <thead>\n",
       "    <tr style=\"text-align: right;\">\n",
       "      <th>PhysActivity</th>\n",
       "      <th>0</th>\n",
       "      <th>1</th>\n",
       "    </tr>\n",
       "    <tr>\n",
       "      <th>Diabetes_Type</th>\n",
       "      <th></th>\n",
       "      <th></th>\n",
       "    </tr>\n",
       "  </thead>\n",
       "  <tbody>\n",
       "    <tr>\n",
       "      <th>Diabetic</th>\n",
       "      <td>923</td>\n",
       "      <td>1507</td>\n",
       "    </tr>\n",
       "    <tr>\n",
       "      <th>Healthy</th>\n",
       "      <td>2968</td>\n",
       "      <td>9326</td>\n",
       "    </tr>\n",
       "    <tr>\n",
       "      <th>Pre-diabetic</th>\n",
       "      <td>96</td>\n",
       "      <td>179</td>\n",
       "    </tr>\n",
       "  </tbody>\n",
       "</table>\n",
       "</div>"
      ],
      "text/plain": [
       "PhysActivity      0     1\n",
       "Diabetes_Type            \n",
       "Diabetic        923  1507\n",
       "Healthy        2968  9326\n",
       "Pre-diabetic     96   179"
      ]
     },
     "execution_count": 12,
     "metadata": {},
     "output_type": "execute_result"
    },
    {
     "data": {
      "image/png": "[encoded data removed]",
      "text/plain": [
       "<Figure size 432x288 with 1 Axes>"
      ]
     },
     "metadata": {
      "needs_background": "light"
     },
     "output_type": "display_data"
    }
   ],
   "source": [
    "pd.crosstab(dib.PhysActivity, dib.Diabetes_Type).plot(kind = 'bar')\n",
    "plt.title(\"Diabetes vs PhysActivity\")\n",
    "pd.crosstab(dib[\"Diabetes_Type\"], dib[\"PhysActivity\"])"
   ]
  },
  {
   "cell_type": "markdown",
   "id": "d5abb134",
   "metadata": {},
   "source": [
    "0 = no physical activity ; 1 = yes physical activity;  in past 30 days"
   ]
  },
  {
   "cell_type": "code",
   "execution_count": 13,
   "id": "fc50567b",
   "metadata": {},
   "outputs": [
    {
     "data": {
      "text/html": [
       "<div>\n",
       "<style scoped>\n",
       "    .dataframe tbody tr th:only-of-type {\n",
       "        vertical-align: middle;\n",
       "    }\n",
       "\n",
       "    .dataframe tbody tr th {\n",
       "        vertical-align: top;\n",
       "    }\n",
       "\n",
       "    .dataframe thead th {\n",
       "        text-align: right;\n",
       "    }\n",
       "</style>\n",
       "<table border=\"1\" class=\"dataframe\">\n",
       "  <thead>\n",
       "    <tr style=\"text-align: right;\">\n",
       "      <th>Age</th>\n",
       "      <th>1</th>\n",
       "      <th>2</th>\n",
       "      <th>3</th>\n",
       "      <th>4</th>\n",
       "      <th>5</th>\n",
       "      <th>6</th>\n",
       "      <th>7</th>\n",
       "      <th>8</th>\n",
       "      <th>9</th>\n",
       "      <th>10</th>\n",
       "      <th>11</th>\n",
       "      <th>12</th>\n",
       "      <th>13</th>\n",
       "    </tr>\n",
       "    <tr>\n",
       "      <th>Diabetes_Type</th>\n",
       "      <th></th>\n",
       "      <th></th>\n",
       "      <th></th>\n",
       "      <th></th>\n",
       "      <th></th>\n",
       "      <th></th>\n",
       "      <th></th>\n",
       "      <th></th>\n",
       "      <th></th>\n",
       "      <th></th>\n",
       "      <th></th>\n",
       "      <th></th>\n",
       "      <th></th>\n",
       "    </tr>\n",
       "  </thead>\n",
       "  <tbody>\n",
       "    <tr>\n",
       "      <th>Diabetic</th>\n",
       "      <td>6</td>\n",
       "      <td>8</td>\n",
       "      <td>17</td>\n",
       "      <td>42</td>\n",
       "      <td>67</td>\n",
       "      <td>129</td>\n",
       "      <td>195</td>\n",
       "      <td>319</td>\n",
       "      <td>390</td>\n",
       "      <td>468</td>\n",
       "      <td>350</td>\n",
       "      <td>222</td>\n",
       "      <td>217</td>\n",
       "    </tr>\n",
       "    <tr>\n",
       "      <th>Healthy</th>\n",
       "      <td>274</td>\n",
       "      <td>376</td>\n",
       "      <td>527</td>\n",
       "      <td>732</td>\n",
       "      <td>835</td>\n",
       "      <td>974</td>\n",
       "      <td>1310</td>\n",
       "      <td>1433</td>\n",
       "      <td>1531</td>\n",
       "      <td>1512</td>\n",
       "      <td>1161</td>\n",
       "      <td>808</td>\n",
       "      <td>821</td>\n",
       "    </tr>\n",
       "    <tr>\n",
       "      <th>Pre-diabetic</th>\n",
       "      <td>0</td>\n",
       "      <td>5</td>\n",
       "      <td>4</td>\n",
       "      <td>10</td>\n",
       "      <td>10</td>\n",
       "      <td>16</td>\n",
       "      <td>23</td>\n",
       "      <td>35</td>\n",
       "      <td>40</td>\n",
       "      <td>54</td>\n",
       "      <td>20</td>\n",
       "      <td>33</td>\n",
       "      <td>25</td>\n",
       "    </tr>\n",
       "  </tbody>\n",
       "</table>\n",
       "</div>"
      ],
      "text/plain": [
       "Age             1    2    3    4    5    6     7     8     9     10    11  \\\n",
       "Diabetes_Type                                                               \n",
       "Diabetic         6    8   17   42   67  129   195   319   390   468   350   \n",
       "Healthy        274  376  527  732  835  974  1310  1433  1531  1512  1161   \n",
       "Pre-diabetic     0    5    4   10   10   16    23    35    40    54    20   \n",
       "\n",
       "Age             12   13  \n",
       "Diabetes_Type            \n",
       "Diabetic       222  217  \n",
       "Healthy        808  821  \n",
       "Pre-diabetic    33   25  "
      ]
     },
     "execution_count": 13,
     "metadata": {},
     "output_type": "execute_result"
    },
    {
     "data": {
      "image/png": "[encoded data removed]",
      "text/plain": [
       "<Figure size 1080x360 with 1 Axes>"
      ]
     },
     "metadata": {
      "needs_background": "light"
     },
     "output_type": "display_data"
    }
   ],
   "source": [
    "pd.crosstab(dib.Age, dib.Diabetes_Type).plot(kind = 'bar', figsize=(15,5))\n",
    "plt.title(\"Diabetes vs Age\")\n",
    "plt.xlabel('Age')\n",
    "plt.ylabel('No of Patients')\n",
    "pd.crosstab(dib[\"Diabetes_Type\"], dib[\"Age\"])"
   ]
  },
  {
   "cell_type": "markdown",
   "id": "2cb9bef0",
   "metadata": {},
   "source": [
    "1\tAge 18 - 24\n",
    "2\tAge 25 to 29\n",
    "3\tAge 30 to 34\n",
    "4\tAge 35 to 39\n",
    "5\tAge 40 to 44\n",
    "6\tAge 45 to 49\n",
    "7\tAge 50 to 54\n",
    "8\tAge 55 to 59\n",
    "9\tAge 60 to 64\n",
    "10\tAge 65 to 69\n",
    "11\tAge 70 to 74\n",
    "12\tAge 75 to 79\n",
    "13\tAge 80 or older\n"
   ]
  },
  {
   "cell_type": "code",
   "execution_count": 14,
   "id": "2faffab5",
   "metadata": {},
   "outputs": [
    {
     "data": {
      "text/html": [
       "<div>\n",
       "<style scoped>\n",
       "    .dataframe tbody tr th:only-of-type {\n",
       "        vertical-align: middle;\n",
       "    }\n",
       "\n",
       "    .dataframe tbody tr th {\n",
       "        vertical-align: top;\n",
       "    }\n",
       "\n",
       "    .dataframe thead th {\n",
       "        text-align: right;\n",
       "    }\n",
       "</style>\n",
       "<table border=\"1\" class=\"dataframe\">\n",
       "  <thead>\n",
       "    <tr style=\"text-align: right;\">\n",
       "      <th>BMI</th>\n",
       "      <th>14</th>\n",
       "      <th>15</th>\n",
       "      <th>16</th>\n",
       "      <th>17</th>\n",
       "      <th>18</th>\n",
       "      <th>19</th>\n",
       "      <th>20</th>\n",
       "      <th>21</th>\n",
       "      <th>22</th>\n",
       "      <th>23</th>\n",
       "      <th>...</th>\n",
       "      <th>60</th>\n",
       "      <th>61</th>\n",
       "      <th>62</th>\n",
       "      <th>63</th>\n",
       "      <th>64</th>\n",
       "      <th>66</th>\n",
       "      <th>67</th>\n",
       "      <th>73</th>\n",
       "      <th>74</th>\n",
       "      <th>85</th>\n",
       "    </tr>\n",
       "    <tr>\n",
       "      <th>Diabetes_Type</th>\n",
       "      <th></th>\n",
       "      <th></th>\n",
       "      <th></th>\n",
       "      <th></th>\n",
       "      <th></th>\n",
       "      <th></th>\n",
       "      <th></th>\n",
       "      <th></th>\n",
       "      <th></th>\n",
       "      <th></th>\n",
       "      <th></th>\n",
       "      <th></th>\n",
       "      <th></th>\n",
       "      <th></th>\n",
       "      <th></th>\n",
       "      <th></th>\n",
       "      <th></th>\n",
       "      <th></th>\n",
       "      <th></th>\n",
       "      <th></th>\n",
       "      <th></th>\n",
       "    </tr>\n",
       "  </thead>\n",
       "  <tbody>\n",
       "    <tr>\n",
       "      <th>Diabetic</th>\n",
       "      <td>0</td>\n",
       "      <td>0</td>\n",
       "      <td>4</td>\n",
       "      <td>6</td>\n",
       "      <td>5</td>\n",
       "      <td>11</td>\n",
       "      <td>15</td>\n",
       "      <td>39</td>\n",
       "      <td>38</td>\n",
       "      <td>67</td>\n",
       "      <td>...</td>\n",
       "      <td>1</td>\n",
       "      <td>1</td>\n",
       "      <td>2</td>\n",
       "      <td>3</td>\n",
       "      <td>0</td>\n",
       "      <td>1</td>\n",
       "      <td>1</td>\n",
       "      <td>0</td>\n",
       "      <td>0</td>\n",
       "      <td>1</td>\n",
       "    </tr>\n",
       "    <tr>\n",
       "      <th>Healthy</th>\n",
       "      <td>5</td>\n",
       "      <td>11</td>\n",
       "      <td>31</td>\n",
       "      <td>47</td>\n",
       "      <td>119</td>\n",
       "      <td>233</td>\n",
       "      <td>295</td>\n",
       "      <td>516</td>\n",
       "      <td>705</td>\n",
       "      <td>810</td>\n",
       "      <td>...</td>\n",
       "      <td>0</td>\n",
       "      <td>4</td>\n",
       "      <td>2</td>\n",
       "      <td>1</td>\n",
       "      <td>1</td>\n",
       "      <td>0</td>\n",
       "      <td>0</td>\n",
       "      <td>2</td>\n",
       "      <td>1</td>\n",
       "      <td>0</td>\n",
       "    </tr>\n",
       "    <tr>\n",
       "      <th>Pre-diabetic</th>\n",
       "      <td>1</td>\n",
       "      <td>0</td>\n",
       "      <td>1</td>\n",
       "      <td>0</td>\n",
       "      <td>1</td>\n",
       "      <td>3</td>\n",
       "      <td>2</td>\n",
       "      <td>2</td>\n",
       "      <td>7</td>\n",
       "      <td>4</td>\n",
       "      <td>...</td>\n",
       "      <td>0</td>\n",
       "      <td>0</td>\n",
       "      <td>0</td>\n",
       "      <td>0</td>\n",
       "      <td>0</td>\n",
       "      <td>0</td>\n",
       "      <td>0</td>\n",
       "      <td>0</td>\n",
       "      <td>0</td>\n",
       "      <td>0</td>\n",
       "    </tr>\n",
       "  </tbody>\n",
       "</table>\n",
       "<p>3 rows × 56 columns</p>\n",
       "</div>"
      ],
      "text/plain": [
       "BMI            14  15  16  17   18   19   20   21   22   23  ...  60  61  62  \\\n",
       "Diabetes_Type                                                ...               \n",
       "Diabetic        0   0   4   6    5   11   15   39   38   67  ...   1   1   2   \n",
       "Healthy         5  11  31  47  119  233  295  516  705  810  ...   0   4   2   \n",
       "Pre-diabetic    1   0   1   0    1    3    2    2    7    4  ...   0   0   0   \n",
       "\n",
       "BMI            63  64  66  67  73  74  85  \n",
       "Diabetes_Type                              \n",
       "Diabetic        3   0   1   1   0   0   1  \n",
       "Healthy         1   1   0   0   2   1   0  \n",
       "Pre-diabetic    0   0   0   0   0   0   0  \n",
       "\n",
       "[3 rows x 56 columns]"
      ]
     },
     "execution_count": 14,
     "metadata": {},
     "output_type": "execute_result"
    },
    {
     "data": {
      "image/png": "[encoded data removed]",
      "text/plain": [
       "<Figure size 1080x360 with 1 Axes>"
      ]
     },
     "metadata": {
      "needs_background": "light"
     },
     "output_type": "display_data"
    }
   ],
   "source": [
    "pd.crosstab(dib.BMI, dib.Diabetes_Type).plot(kind = 'bar', figsize=(15,5))\n",
    "plt.title(\"Diabetes vs BMI\")\n",
    "plt.xlabel('BMI')\n",
    "plt.ylabel('No of Patients')\n",
    "pd.crosstab(dib[\"Diabetes_Type\"], dib[\"BMI\"])"
   ]
  },
  {
   "cell_type": "markdown",
   "id": "37fc26fa",
   "metadata": {},
   "source": [
    "Body Mass Index (BMI) is a person’s weight in kilograms (or pounds) divided by the square of height in meters (or feet). A high BMI can indicate high body fatness. BMI screens for weight categories that may lead to health problems, but it does not diagnose the body fatness or health of an individual."
   ]
  },
  {
   "cell_type": "code",
   "execution_count": 15,
   "id": "9874757e",
   "metadata": {},
   "outputs": [
    {
     "data": {
      "text/html": [
       "<div>\n",
       "<style scoped>\n",
       "    .dataframe tbody tr th:only-of-type {\n",
       "        vertical-align: middle;\n",
       "    }\n",
       "\n",
       "    .dataframe tbody tr th {\n",
       "        vertical-align: top;\n",
       "    }\n",
       "\n",
       "    .dataframe thead th {\n",
       "        text-align: right;\n",
       "    }\n",
       "</style>\n",
       "<table border=\"1\" class=\"dataframe\">\n",
       "  <thead>\n",
       "    <tr style=\"text-align: right;\">\n",
       "      <th>MentHlth</th>\n",
       "      <th>0</th>\n",
       "      <th>1</th>\n",
       "      <th>2</th>\n",
       "      <th>3</th>\n",
       "      <th>4</th>\n",
       "      <th>5</th>\n",
       "      <th>6</th>\n",
       "      <th>7</th>\n",
       "      <th>8</th>\n",
       "      <th>9</th>\n",
       "      <th>...</th>\n",
       "      <th>21</th>\n",
       "      <th>22</th>\n",
       "      <th>23</th>\n",
       "      <th>24</th>\n",
       "      <th>25</th>\n",
       "      <th>26</th>\n",
       "      <th>27</th>\n",
       "      <th>28</th>\n",
       "      <th>29</th>\n",
       "      <th>30</th>\n",
       "    </tr>\n",
       "    <tr>\n",
       "      <th>Diabetes_012</th>\n",
       "      <th></th>\n",
       "      <th></th>\n",
       "      <th></th>\n",
       "      <th></th>\n",
       "      <th></th>\n",
       "      <th></th>\n",
       "      <th></th>\n",
       "      <th></th>\n",
       "      <th></th>\n",
       "      <th></th>\n",
       "      <th></th>\n",
       "      <th></th>\n",
       "      <th></th>\n",
       "      <th></th>\n",
       "      <th></th>\n",
       "      <th></th>\n",
       "      <th></th>\n",
       "      <th></th>\n",
       "      <th></th>\n",
       "      <th></th>\n",
       "      <th></th>\n",
       "    </tr>\n",
       "  </thead>\n",
       "  <tbody>\n",
       "    <tr>\n",
       "      <th>0</th>\n",
       "      <td>8527</td>\n",
       "      <td>411</td>\n",
       "      <td>616</td>\n",
       "      <td>364</td>\n",
       "      <td>168</td>\n",
       "      <td>442</td>\n",
       "      <td>33</td>\n",
       "      <td>163</td>\n",
       "      <td>31</td>\n",
       "      <td>2</td>\n",
       "      <td>...</td>\n",
       "      <td>10</td>\n",
       "      <td>2</td>\n",
       "      <td>1</td>\n",
       "      <td>5</td>\n",
       "      <td>70</td>\n",
       "      <td>1</td>\n",
       "      <td>4</td>\n",
       "      <td>21</td>\n",
       "      <td>14</td>\n",
       "      <td>561</td>\n",
       "    </tr>\n",
       "    <tr>\n",
       "      <th>1</th>\n",
       "      <td>155</td>\n",
       "      <td>8</td>\n",
       "      <td>18</td>\n",
       "      <td>13</td>\n",
       "      <td>3</td>\n",
       "      <td>8</td>\n",
       "      <td>3</td>\n",
       "      <td>3</td>\n",
       "      <td>0</td>\n",
       "      <td>0</td>\n",
       "      <td>...</td>\n",
       "      <td>1</td>\n",
       "      <td>0</td>\n",
       "      <td>0</td>\n",
       "      <td>0</td>\n",
       "      <td>1</td>\n",
       "      <td>1</td>\n",
       "      <td>0</td>\n",
       "      <td>2</td>\n",
       "      <td>0</td>\n",
       "      <td>28</td>\n",
       "    </tr>\n",
       "    <tr>\n",
       "      <th>2</th>\n",
       "      <td>1556</td>\n",
       "      <td>54</td>\n",
       "      <td>105</td>\n",
       "      <td>64</td>\n",
       "      <td>38</td>\n",
       "      <td>75</td>\n",
       "      <td>12</td>\n",
       "      <td>28</td>\n",
       "      <td>7</td>\n",
       "      <td>0</td>\n",
       "      <td>...</td>\n",
       "      <td>6</td>\n",
       "      <td>0</td>\n",
       "      <td>2</td>\n",
       "      <td>3</td>\n",
       "      <td>16</td>\n",
       "      <td>1</td>\n",
       "      <td>1</td>\n",
       "      <td>6</td>\n",
       "      <td>2</td>\n",
       "      <td>219</td>\n",
       "    </tr>\n",
       "  </tbody>\n",
       "</table>\n",
       "<p>3 rows × 31 columns</p>\n",
       "</div>"
      ],
      "text/plain": [
       "MentHlth        0    1    2    3    4    5   6    7   8   9   ...  21  22  23  \\\n",
       "Diabetes_012                                                  ...               \n",
       "0             8527  411  616  364  168  442  33  163  31   2  ...  10   2   1   \n",
       "1              155    8   18   13    3    8   3    3   0   0  ...   1   0   0   \n",
       "2             1556   54  105   64   38   75  12   28   7   0  ...   6   0   2   \n",
       "\n",
       "MentHlth      24  25  26  27  28  29   30  \n",
       "Diabetes_012                               \n",
       "0              5  70   1   4  21  14  561  \n",
       "1              0   1   1   0   2   0   28  \n",
       "2              3  16   1   1   6   2  219  \n",
       "\n",
       "[3 rows x 31 columns]"
      ]
     },
     "execution_count": 15,
     "metadata": {},
     "output_type": "execute_result"
    },
    {
     "data": {
      "image/png": "[encoded data removed]",
      "text/plain": [
       "<Figure size 1080x360 with 1 Axes>"
      ]
     },
     "metadata": {
      "needs_background": "light"
     },
     "output_type": "display_data"
    }
   ],
   "source": [
    "pd.crosstab(dib.MentHlth, dib.Diabetes_Type).plot(kind = 'bar', figsize=(15,5))\n",
    "plt.title(\"Diabetes vs MentHlth\")\n",
    "plt.xlabel('No of Days where MentHlth was not good')\n",
    "plt.ylabel('No of Patients')\n",
    "pd.crosstab(dib[\"Diabetes_012\"], dib[\"MentHlth\"])"
   ]
  },
  {
   "cell_type": "markdown",
   "id": "c261661a",
   "metadata": {},
   "source": [
    "MentHlth - No of days in past 30 days patient had mental health issue."
   ]
  },
  {
   "cell_type": "code",
   "execution_count": 16,
   "id": "0daf7811",
   "metadata": {},
   "outputs": [
    {
     "data": {
      "text/html": [
       "<div>\n",
       "<style scoped>\n",
       "    .dataframe tbody tr th:only-of-type {\n",
       "        vertical-align: middle;\n",
       "    }\n",
       "\n",
       "    .dataframe tbody tr th {\n",
       "        vertical-align: top;\n",
       "    }\n",
       "\n",
       "    .dataframe thead th {\n",
       "        text-align: right;\n",
       "    }\n",
       "</style>\n",
       "<table border=\"1\" class=\"dataframe\">\n",
       "  <thead>\n",
       "    <tr style=\"text-align: right;\">\n",
       "      <th>PhysHlth</th>\n",
       "      <th>0</th>\n",
       "      <th>1</th>\n",
       "      <th>2</th>\n",
       "      <th>3</th>\n",
       "      <th>4</th>\n",
       "      <th>5</th>\n",
       "      <th>6</th>\n",
       "      <th>7</th>\n",
       "      <th>8</th>\n",
       "      <th>9</th>\n",
       "      <th>...</th>\n",
       "      <th>21</th>\n",
       "      <th>22</th>\n",
       "      <th>23</th>\n",
       "      <th>24</th>\n",
       "      <th>25</th>\n",
       "      <th>26</th>\n",
       "      <th>27</th>\n",
       "      <th>28</th>\n",
       "      <th>29</th>\n",
       "      <th>30</th>\n",
       "    </tr>\n",
       "    <tr>\n",
       "      <th>Diabetes_Type</th>\n",
       "      <th></th>\n",
       "      <th></th>\n",
       "      <th></th>\n",
       "      <th></th>\n",
       "      <th></th>\n",
       "      <th></th>\n",
       "      <th></th>\n",
       "      <th></th>\n",
       "      <th></th>\n",
       "      <th></th>\n",
       "      <th></th>\n",
       "      <th></th>\n",
       "      <th></th>\n",
       "      <th></th>\n",
       "      <th></th>\n",
       "      <th></th>\n",
       "      <th></th>\n",
       "      <th></th>\n",
       "      <th></th>\n",
       "      <th></th>\n",
       "      <th></th>\n",
       "    </tr>\n",
       "  </thead>\n",
       "  <tbody>\n",
       "    <tr>\n",
       "      <th>Diabetic</th>\n",
       "      <td>1108</td>\n",
       "      <td>72</td>\n",
       "      <td>141</td>\n",
       "      <td>88</td>\n",
       "      <td>58</td>\n",
       "      <td>78</td>\n",
       "      <td>16</td>\n",
       "      <td>38</td>\n",
       "      <td>10</td>\n",
       "      <td>3</td>\n",
       "      <td>...</td>\n",
       "      <td>9</td>\n",
       "      <td>1</td>\n",
       "      <td>2</td>\n",
       "      <td>0</td>\n",
       "      <td>23</td>\n",
       "      <td>2</td>\n",
       "      <td>1</td>\n",
       "      <td>11</td>\n",
       "      <td>3</td>\n",
       "      <td>417</td>\n",
       "    </tr>\n",
       "    <tr>\n",
       "      <th>Healthy</th>\n",
       "      <td>7838</td>\n",
       "      <td>511</td>\n",
       "      <td>712</td>\n",
       "      <td>411</td>\n",
       "      <td>217</td>\n",
       "      <td>384</td>\n",
       "      <td>62</td>\n",
       "      <td>243</td>\n",
       "      <td>48</td>\n",
       "      <td>9</td>\n",
       "      <td>...</td>\n",
       "      <td>38</td>\n",
       "      <td>9</td>\n",
       "      <td>7</td>\n",
       "      <td>3</td>\n",
       "      <td>67</td>\n",
       "      <td>2</td>\n",
       "      <td>5</td>\n",
       "      <td>29</td>\n",
       "      <td>8</td>\n",
       "      <td>863</td>\n",
       "    </tr>\n",
       "    <tr>\n",
       "      <th>Pre-diabetic</th>\n",
       "      <td>140</td>\n",
       "      <td>9</td>\n",
       "      <td>17</td>\n",
       "      <td>10</td>\n",
       "      <td>3</td>\n",
       "      <td>11</td>\n",
       "      <td>2</td>\n",
       "      <td>6</td>\n",
       "      <td>5</td>\n",
       "      <td>0</td>\n",
       "      <td>...</td>\n",
       "      <td>1</td>\n",
       "      <td>0</td>\n",
       "      <td>1</td>\n",
       "      <td>1</td>\n",
       "      <td>1</td>\n",
       "      <td>0</td>\n",
       "      <td>1</td>\n",
       "      <td>2</td>\n",
       "      <td>0</td>\n",
       "      <td>41</td>\n",
       "    </tr>\n",
       "  </tbody>\n",
       "</table>\n",
       "<p>3 rows × 31 columns</p>\n",
       "</div>"
      ],
      "text/plain": [
       "PhysHlth         0    1    2    3    4    5   6    7   8   9   ...  21  22  \\\n",
       "Diabetes_Type                                                  ...           \n",
       "Diabetic       1108   72  141   88   58   78  16   38  10   3  ...   9   1   \n",
       "Healthy        7838  511  712  411  217  384  62  243  48   9  ...  38   9   \n",
       "Pre-diabetic    140    9   17   10    3   11   2    6   5   0  ...   1   0   \n",
       "\n",
       "PhysHlth       23  24  25  26  27  28  29   30  \n",
       "Diabetes_Type                                   \n",
       "Diabetic        2   0  23   2   1  11   3  417  \n",
       "Healthy         7   3  67   2   5  29   8  863  \n",
       "Pre-diabetic    1   1   1   0   1   2   0   41  \n",
       "\n",
       "[3 rows x 31 columns]"
      ]
     },
     "execution_count": 16,
     "metadata": {},
     "output_type": "execute_result"
    },
    {
     "data": {
      "image/png": "[encoded data removed]",
      "text/plain": [
       "<Figure size 1080x360 with 1 Axes>"
      ]
     },
     "metadata": {
      "needs_background": "light"
     },
     "output_type": "display_data"
    }
   ],
   "source": [
    "pd.crosstab(dib.PhysHlth, dib.Diabetes_Type).plot(kind = 'bar', figsize=(15,5))\n",
    "plt.title(\"Diabetes vs PhysHlth\")\n",
    "plt.xlabel('No of Days where PhysHlth was not good')\n",
    "plt.ylabel('No of Patients')\n",
    "pd.crosstab(dib[\"Diabetes_Type\"], dib[\"PhysHlth\"])"
   ]
  },
  {
   "cell_type": "markdown",
   "id": "1b5c8d16",
   "metadata": {},
   "source": [
    "PhysHlth - No of days in past 30 days patient had physical health issue including physical illness and injury"
   ]
  },
  {
   "cell_type": "code",
   "execution_count": 17,
   "id": "e628993e",
   "metadata": {
    "scrolled": true
   },
   "outputs": [
    {
     "data": {
      "text/html": [
       "<div>\n",
       "<style scoped>\n",
       "    .dataframe tbody tr th:only-of-type {\n",
       "        vertical-align: middle;\n",
       "    }\n",
       "\n",
       "    .dataframe tbody tr th {\n",
       "        vertical-align: top;\n",
       "    }\n",
       "\n",
       "    .dataframe thead th {\n",
       "        text-align: right;\n",
       "    }\n",
       "</style>\n",
       "<table border=\"1\" class=\"dataframe\">\n",
       "  <thead>\n",
       "    <tr style=\"text-align: right;\">\n",
       "      <th>GenHlth</th>\n",
       "      <th>1</th>\n",
       "      <th>2</th>\n",
       "      <th>3</th>\n",
       "      <th>4</th>\n",
       "      <th>5</th>\n",
       "    </tr>\n",
       "    <tr>\n",
       "      <th>Diabetes_Type</th>\n",
       "      <th></th>\n",
       "      <th></th>\n",
       "      <th></th>\n",
       "      <th></th>\n",
       "      <th></th>\n",
       "    </tr>\n",
       "  </thead>\n",
       "  <tbody>\n",
       "    <tr>\n",
       "      <th>Diabetic</th>\n",
       "      <td>78</td>\n",
       "      <td>388</td>\n",
       "      <td>885</td>\n",
       "      <td>690</td>\n",
       "      <td>389</td>\n",
       "    </tr>\n",
       "    <tr>\n",
       "      <th>Healthy</th>\n",
       "      <td>2407</td>\n",
       "      <td>4325</td>\n",
       "      <td>3637</td>\n",
       "      <td>1367</td>\n",
       "      <td>558</td>\n",
       "    </tr>\n",
       "    <tr>\n",
       "      <th>Pre-diabetic</th>\n",
       "      <td>19</td>\n",
       "      <td>59</td>\n",
       "      <td>101</td>\n",
       "      <td>63</td>\n",
       "      <td>33</td>\n",
       "    </tr>\n",
       "  </tbody>\n",
       "</table>\n",
       "</div>"
      ],
      "text/plain": [
       "GenHlth           1     2     3     4    5\n",
       "Diabetes_Type                             \n",
       "Diabetic         78   388   885   690  389\n",
       "Healthy        2407  4325  3637  1367  558\n",
       "Pre-diabetic     19    59   101    63   33"
      ]
     },
     "execution_count": 17,
     "metadata": {},
     "output_type": "execute_result"
    },
    {
     "data": {
      "image/png": "[encoded data removed]",
      "text/plain": [
       "<Figure size 1080x360 with 1 Axes>"
      ]
     },
     "metadata": {
      "needs_background": "light"
     },
     "output_type": "display_data"
    }
   ],
   "source": [
    "pd.crosstab(dib.GenHlth, dib.Diabetes_Type).plot(kind = 'bar', figsize=(15,5))\n",
    "plt.title(\"Diabetes vs GenHlth\")\n",
    "plt.xlabel('GenHlth')\n",
    "plt.ylabel('No of Patients')\n",
    "pd.crosstab(dib[\"Diabetes_Type\"], dib[\"GenHlth\"])"
   ]
  },
  {
   "cell_type": "markdown",
   "id": "a9d43fdb",
   "metadata": {},
   "source": [
    "GenHlth scale 1-5 \n",
    "1 = excellent\n",
    "2 = very good\n",
    "3 = good\n",
    "4 = fair\n",
    "5 = poor"
   ]
  },
  {
   "cell_type": "markdown",
   "id": "88281693",
   "metadata": {},
   "source": [
    "<h2>Training and Testing Data</h2>"
   ]
  },
  {
   "cell_type": "code",
   "execution_count": 18,
   "id": "9c69659e",
   "metadata": {},
   "outputs": [
    {
     "data": {
      "text/plain": [
       "((11249, 21), (11249,), (3750, 21), (3750,))"
      ]
     },
     "execution_count": 18,
     "metadata": {},
     "output_type": "execute_result"
    }
   ],
   "source": [
    "#Distribution of class labels is almost even between train and test dataset. \n",
    "#The data is shuffled each time before the split is done and this is why there’s a greater chance that overlapping might be possible between train-test sets. \n",
    "\n",
    "from sklearn.model_selection import StratifiedShuffleSplit\n",
    "\n",
    "split = StratifiedShuffleSplit(n_splits=1, test_size=0.25, random_state=10)\n",
    "\n",
    "for train_index, test_index in split.split(dib, dib['Diabetes_012']):\n",
    "    strat_train_set = dib.loc[train_index]\n",
    "    strat_test_set = dib.loc[test_index]\n",
    "\n",
    "#in general, we call input data X, and label data Y, so we first create trainX and trainY\n",
    "trainX = strat_train_set.loc[:, 'HighBP' : 'Income']\n",
    "trainY = strat_train_set.loc[:,'Diabetes_012'].values\n",
    "#trainY = (trainY=='+')*1\n",
    "\n",
    "testX = strat_test_set.loc[:,'HighBP' : 'Income']\n",
    "testY = strat_test_set.loc[:,'Diabetes_012'].values\n",
    "#testY = (testY=='+')*1\n",
    "\n",
    "trainX.shape, trainY.shape, testX.shape, testY.shape"
   ]
  },
  {
   "cell_type": "code",
   "execution_count": 19,
   "id": "86b537b5",
   "metadata": {},
   "outputs": [],
   "source": [
    "from sklearn.pipeline import Pipeline\n",
    "from sklearn.impute import SimpleImputer\n",
    "from sklearn.preprocessing import StandardScaler\n",
    "from sklearn.preprocessing import OneHotEncoder\n",
    "from sklearn.compose import ColumnTransformer\n",
    "import numpy as np\n",
    "\n",
    "num_cols = trainX.columns[(trainX.dtypes==np.int64) | (trainX.dtypes==np.float64)]\n",
    "\n",
    "num_pipeline = Pipeline([\n",
    "    ('impute', SimpleImputer(strategy='median')),\n",
    "    ('standardize', StandardScaler())\n",
    "])\n",
    "\n",
    "cat_cols = trainX.columns[trainX.dtypes==object]\n",
    "\n",
    "cat_pipeline = Pipeline([\n",
    "    ('impute', SimpleImputer(strategy='constant',fill_value='missing')),\n",
    "    ('encode', OneHotEncoder())\n",
    "])\n",
    "\n",
    "full_pipeline = ColumnTransformer([\n",
    "    ('numeric', num_pipeline, num_cols),\n",
    "    ('class', cat_pipeline, cat_cols)\n",
    "])"
   ]
  },
  {
   "cell_type": "code",
   "execution_count": 20,
   "id": "81551a86",
   "metadata": {},
   "outputs": [],
   "source": [
    "import numpy as np\n",
    "\n",
    "trainX_prc = full_pipeline.fit_transform(trainX)\n",
    "trainX_prc = np.array(trainX_prc)\n",
    "traindata = np.concatenate([trainY.reshape(-1,1),trainX_prc],axis=1)\n",
    "pd.DataFrame(traindata).to_csv('dib_train.csv', index=False, header=False)\n",
    "\n",
    "\n",
    "testX_prc = full_pipeline.transform(testX)\n",
    "testX_prc = np.array(testX_prc)\n",
    "testdata = np.array(testX_prc)"
   ]
  },
  {
   "cell_type": "markdown",
   "id": "d90e4a4f",
   "metadata": {},
   "source": [
    "<h2>Modeling</h2>\n",
    "\n",
    "Now that the data is defined, we will apply classification models below. \n",
    "\n",
    "<h4>Logistic Regression</h4>"
   ]
  },
  {
   "cell_type": "code",
   "execution_count": 21,
   "id": "7ba7e7c3",
   "metadata": {},
   "outputs": [
    {
     "name": "stdout",
     "output_type": "stream",
     "text": [
      "Training Accuracy: 0.8267401546804161\n",
      "Testing Accuracy: 0.8272\n"
     ]
    }
   ],
   "source": [
    "from sklearn.linear_model import LogisticRegression\n",
    "from sklearn.model_selection import cross_val_score\n",
    "from sklearn.model_selection import cross_val_predict\n",
    "from sklearn.metrics import f1_score\n",
    "\n",
    "#create new model\n",
    "logistic = LogisticRegression()\n",
    "\n",
    "#train \n",
    "logistic.fit(trainX_prc, trainY)\n",
    "\n",
    "#get training accuracy\n",
    "train_accuracy_lg = logistic.score(trainX_prc, trainY)\n",
    "\n",
    "#get testing accuracy\n",
    "test_accuracy_lg = logistic.score(testX_prc, testY)\n",
    "\n",
    "print('Training Accuracy:', train_accuracy_lg)\n",
    "print('Testing Accuracy:', test_accuracy_lg)"
   ]
  },
  {
   "cell_type": "markdown",
   "id": "a9830a48",
   "metadata": {},
   "source": [
    "<h4>Linear Support Vector Classifier</h4>"
   ]
  },
  {
   "cell_type": "code",
   "execution_count": 22,
   "id": "6df11ec4",
   "metadata": {},
   "outputs": [
    {
     "name": "stdout",
     "output_type": "stream",
     "text": [
      "Training Accuracy: 0.824962218863899\n",
      "Testing Accuracy: 0.8282666666666667\n"
     ]
    }
   ],
   "source": [
    "from sklearn.svm import LinearSVC\n",
    "\n",
    "lsvc = LinearSVC(max_iter=5000, C=0.01)\n",
    "lsvc.fit(trainX_prc, trainY)\n",
    "\n",
    "train_accuracy_lsvm = lsvc.score(trainX_prc, trainY)\n",
    "\n",
    "#get testing accuracy\n",
    "test_accuracy_lsvm = lsvc.score(testX_prc, testY)\n",
    "\n",
    "print('Training Accuracy:', train_accuracy_lsvm)\n",
    "print('Testing Accuracy:', test_accuracy_lsvm)"
   ]
  },
  {
   "cell_type": "markdown",
   "id": "8f1ef6ba",
   "metadata": {},
   "source": [
    "<h4>Kernel Support Vector Machine</h4>"
   ]
  },
  {
   "cell_type": "code",
   "execution_count": 23,
   "id": "8bb7dbe5",
   "metadata": {},
   "outputs": [
    {
     "name": "stderr",
     "output_type": "stream",
     "text": [
      "C:\\Users\\prite\\anaconda3\\anaconda3-new2\\lib\\site-packages\\sklearn\\svm\\_base.py:255: ConvergenceWarning: Solver terminated early (max_iter=5000).  Consider pre-processing your data with StandardScaler or MinMaxScaler.\n",
      "  warnings.warn('Solver terminated early (max_iter=%i).'\n"
     ]
    },
    {
     "name": "stdout",
     "output_type": "stream",
     "text": [
      "Training Accuracy: 0.819628411414348\n",
      "Testing Accuracy: 0.8197333333333333\n"
     ]
    }
   ],
   "source": [
    "from sklearn.svm import SVC\n",
    "\n",
    "svc = SVC(max_iter=5000, kernel='rbf', gamma=0.1, C=0.1)\n",
    "svc.fit(trainX_prc, trainY)\n",
    "\n",
    "train_accuracy_svm = svc.score(trainX_prc, trainY)\n",
    "\n",
    "#get testing accuracy\n",
    "test_accuracy_svm = svc.score(testX_prc, testY)\n",
    "\n",
    "print('Training Accuracy:', train_accuracy_svm)\n",
    "print('Testing Accuracy:', test_accuracy_svm)"
   ]
  },
  {
   "cell_type": "markdown",
   "id": "ca87534c",
   "metadata": {},
   "source": [
    "<h4>Decision Tree</h4>"
   ]
  },
  {
   "cell_type": "code",
   "execution_count": 24,
   "id": "a55b1006",
   "metadata": {},
   "outputs": [
    {
     "name": "stdout",
     "output_type": "stream",
     "text": [
      "Training Accuracy: 0.9996444128366966\n",
      "Testing Accuracy: 0.7410666666666667\n"
     ]
    }
   ],
   "source": [
    "from sklearn.tree import DecisionTreeClassifier\n",
    "\n",
    "dt = DecisionTreeClassifier()\n",
    "dt.fit(trainX_prc, trainY)\n",
    "\n",
    "train_accuracy_dt = dt.score(trainX_prc, trainY)\n",
    "\n",
    "#get testing accuracy\n",
    "test_accuracy_dt = dt.score(testX_prc, testY)\n",
    "\n",
    "print('Training Accuracy:', train_accuracy_dt)\n",
    "print('Testing Accuracy:', test_accuracy_dt)"
   ]
  },
  {
   "cell_type": "markdown",
   "id": "76472959",
   "metadata": {},
   "source": [
    "<h4>Random Forest</h4>"
   ]
  },
  {
   "cell_type": "code",
   "execution_count": 25,
   "id": "bfc3837b",
   "metadata": {},
   "outputs": [
    {
     "name": "stdout",
     "output_type": "stream",
     "text": [
      "Training Accuracy: 0.9995555160458708\n",
      "Testing Accuracy: 0.8144\n"
     ]
    }
   ],
   "source": [
    "from sklearn.ensemble import RandomForestClassifier\n",
    "\n",
    "rf = RandomForestClassifier()\n",
    "rf.fit(trainX_prc, trainY)\n",
    "\n",
    "train_accuracy_rf = rf.score(trainX_prc, trainY)\n",
    "\n",
    "#get testing accuracy\n",
    "test_accuracy_rf = rf.score(testX_prc, testY)\n",
    "\n",
    "print('Training Accuracy:', train_accuracy_rf)\n",
    "print('Testing Accuracy:', test_accuracy_rf)"
   ]
  },
  {
   "cell_type": "code",
   "execution_count": 26,
   "id": "18adaee4",
   "metadata": {},
   "outputs": [
    {
     "name": "stdout",
     "output_type": "stream",
     "text": [
      "BMI                     0.173595\n",
      "Age                     0.118076\n",
      "Income                  0.095361\n",
      "GenHlth                 0.080636\n",
      "PhysHlth                0.077093\n",
      "Education               0.068495\n",
      "MentHlth                0.063139\n",
      "HighBP                  0.039368\n",
      "Smoker                  0.034385\n",
      "Fruits                  0.033449\n",
      "HighChol                0.032802\n",
      "Sex                     0.032044\n",
      "PhysActivity            0.028275\n",
      "Veggies                 0.026670\n",
      "DiffWalk                0.024820\n",
      "HeartDiseaseorAttack    0.021948\n",
      "NoDocbcCost             0.016302\n",
      "Stroke                  0.013523\n",
      "AnyHealthcare           0.008698\n",
      "HvyAlcoholConsump       0.007417\n",
      "CholCheck               0.003904\n",
      "dtype: float64\n"
     ]
    }
   ],
   "source": [
    "#defining of feature\n",
    "feature = pd.Series(rf.feature_importances_, index = trainX.columns).sort_values(ascending = False)\n",
    "print(feature)"
   ]
  },
  {
   "cell_type": "code",
   "execution_count": 27,
   "id": "2bb9ad28",
   "metadata": {},
   "outputs": [
    {
     "data": {
      "image/png": "[encoded data removed]",
      "text/plain": [
       "<Figure size 720x432 with 1 Axes>"
      ]
     },
     "metadata": {
      "needs_background": "light"
     },
     "output_type": "display_data"
    }
   ],
   "source": [
    "#visualize feature\n",
    "plt.figure(figsize = (10,6))\n",
    "sns.barplot(x = feature, y = feature.index)\n",
    "plt.title(\"Indicators of Importance\")\n",
    "plt.xlabel('Score')\n",
    "plt.ylabel('Health Indicators')\n",
    "plt.show()"
   ]
  },
  {
   "cell_type": "markdown",
   "id": "98ba2e12",
   "metadata": {},
   "source": [
    "<h3>Fine Tune Modeling w/ Grid Search and Cross Validation</h3>\n",
    "<h4>Logistic Regression</h4>"
   ]
  },
  {
   "cell_type": "code",
   "execution_count": 28,
   "id": "b5bbe921",
   "metadata": {},
   "outputs": [
    {
     "data": {
      "text/plain": [
       "GridSearchCV(cv=5, estimator=LogisticRegression(max_iter=5000),\n",
       "             param_grid=[{'C': [0.001, 0.005, 0.01, 0.05, 0.1, 0.5, 1, 5, 10,\n",
       "                                50, 100]}],\n",
       "             return_train_score=True, scoring='accuracy')"
      ]
     },
     "execution_count": 28,
     "metadata": {},
     "output_type": "execute_result"
    }
   ],
   "source": [
    "from sklearn.linear_model import LogisticRegression\n",
    "from sklearn.model_selection import cross_val_score\n",
    "from sklearn.model_selection import cross_val_predict\n",
    "from sklearn.model_selection import GridSearchCV\n",
    "\n",
    "#hyperparameter grid for logistic regression, we only optimize regularization term C\n",
    "param_grid = [{'C': [0.001, 0.005, 0.01, 0.05, 0.1, 0.5, 1 , 5, 10, 50, 100]}]\n",
    "\n",
    "#create new model\n",
    "logistic = LogisticRegression(max_iter=5000)\n",
    "\n",
    "#perform grid search with 5-fold cross validation\n",
    "grid_search = GridSearchCV(logistic, param_grid, cv=5, scoring='accuracy', return_train_score=True)\n",
    "\n",
    "grid_search.fit(trainX,trainY)"
   ]
  },
  {
   "cell_type": "markdown",
   "id": "2c4d6642",
   "metadata": {},
   "source": [
    "Checking the best model"
   ]
  },
  {
   "cell_type": "code",
   "execution_count": 29,
   "id": "c91778d6",
   "metadata": {},
   "outputs": [
    {
     "name": "stdout",
     "output_type": "stream",
     "text": [
      "{'C': 50}\n",
      "0.8263845066943333\n"
     ]
    }
   ],
   "source": [
    "print(grid_search.best_params_)\n",
    "print(grid_search.best_score_)"
   ]
  },
  {
   "cell_type": "markdown",
   "id": "6ee1b775",
   "metadata": {},
   "source": [
    "Applying it to the testing model"
   ]
  },
  {
   "cell_type": "code",
   "execution_count": 30,
   "id": "133336ef",
   "metadata": {},
   "outputs": [
    {
     "data": {
      "text/plain": [
       "0.8269333333333333"
      ]
     },
     "execution_count": 30,
     "metadata": {},
     "output_type": "execute_result"
    }
   ],
   "source": [
    "best_l2_logistic = grid_search.best_estimator_\n",
    "best_l2_logistic.score(testX, testY)"
   ]
  },
  {
   "cell_type": "markdown",
   "id": "4b2302a8",
   "metadata": {},
   "source": [
    "<h4>Decision Tree</h4>"
   ]
  },
  {
   "cell_type": "code",
   "execution_count": 31,
   "id": "67742edf",
   "metadata": {},
   "outputs": [
    {
     "data": {
      "text/plain": [
       "GridSearchCV(cv=5, estimator=DecisionTreeClassifier(),\n",
       "             param_grid=[{'max_depth': [3, 4, 5, 6, 7],\n",
       "                          'max_features': [3, 5, 7],\n",
       "                          'min_samples_leaf': [10, 20, 30, 40],\n",
       "                          'min_samples_split': [10, 20, 30, 40]}],\n",
       "             return_train_score=True, scoring='accuracy')"
      ]
     },
     "execution_count": 31,
     "metadata": {},
     "output_type": "execute_result"
    }
   ],
   "source": [
    "from sklearn.tree import DecisionTreeClassifier\n",
    "\n",
    "param_grid = [{\n",
    "    'max_depth': [3,4,5,6,7],\n",
    "    'max_features' : [3, 5, 7],\n",
    "    'min_samples_split' : [10, 20, 30, 40],\n",
    "    'min_samples_leaf' : [10, 20, 30, 40]\n",
    "}]\n",
    "\n",
    "dt = DecisionTreeClassifier()\n",
    "\n",
    "grid_search = GridSearchCV(dt, param_grid, cv=5, scoring='accuracy', return_train_score=True)\n",
    "\n",
    "grid_search.fit(trainX,trainY)"
   ]
  },
  {
   "cell_type": "markdown",
   "id": "021a0ede",
   "metadata": {},
   "source": [
    "Checking for the best model"
   ]
  },
  {
   "cell_type": "code",
   "execution_count": 32,
   "id": "d9d7d226",
   "metadata": {},
   "outputs": [
    {
     "name": "stdout",
     "output_type": "stream",
     "text": [
      "{'max_depth': 7, 'max_features': 5, 'min_samples_leaf': 30, 'min_samples_split': 10}\n",
      "0.8264737512968727\n"
     ]
    }
   ],
   "source": [
    "print(grid_search.best_params_)\n",
    "print(grid_search.best_score_)"
   ]
  },
  {
   "cell_type": "markdown",
   "id": "99442b65",
   "metadata": {},
   "source": [
    "Applying it to the testing model"
   ]
  },
  {
   "cell_type": "code",
   "execution_count": 33,
   "id": "9a40af28",
   "metadata": {},
   "outputs": [
    {
     "data": {
      "text/plain": [
       "0.8216"
      ]
     },
     "execution_count": 33,
     "metadata": {},
     "output_type": "execute_result"
    }
   ],
   "source": [
    "best_dt = grid_search.best_estimator_\n",
    "best_dt.score(testX, testY)"
   ]
  },
  {
   "cell_type": "markdown",
   "id": "04e51416",
   "metadata": {},
   "source": [
    "<h4>Random Forest</h4>"
   ]
  },
  {
   "cell_type": "code",
   "execution_count": 34,
   "id": "70a066fd",
   "metadata": {},
   "outputs": [
    {
     "data": {
      "text/plain": [
       "GridSearchCV(cv=5, estimator=RandomForestClassifier(),\n",
       "             param_grid=[{'max_depth': [3, 4, 5, 6], 'max_features': [3, 5, 7],\n",
       "                          'min_samples_leaf': [10, 20, 30, 40],\n",
       "                          'min_samples_split': [10, 20, 30, 40],\n",
       "                          'n_estimators': [5, 10, 20, 50]}],\n",
       "             return_train_score=True, scoring='accuracy')"
      ]
     },
     "execution_count": 34,
     "metadata": {},
     "output_type": "execute_result"
    }
   ],
   "source": [
    "from sklearn.ensemble import RandomForestClassifier\n",
    "\n",
    "param_grid = [{\n",
    "    'n_estimators' : [5, 10, 20, 50],\n",
    "    'max_depth': [3, 4, 5, 6],\n",
    "    'max_features' : [3, 5, 7],\n",
    "    'min_samples_split' : [10, 20, 30, 40],\n",
    "    'min_samples_leaf' : [10, 20, 30, 40]\n",
    "}]\n",
    "\n",
    "rf = RandomForestClassifier()\n",
    "\n",
    "grid_search = GridSearchCV(rf, param_grid, cv=5, scoring='accuracy', return_train_score=True)\n",
    "\n",
    "grid_search.fit(trainX,trainY)"
   ]
  },
  {
   "cell_type": "code",
   "execution_count": 35,
   "id": "4e787190",
   "metadata": {},
   "outputs": [
    {
     "name": "stdout",
     "output_type": "stream",
     "text": [
      "{'max_depth': 6, 'max_features': 7, 'min_samples_leaf': 30, 'min_samples_split': 30, 'n_estimators': 5}\n",
      "0.8292295835186009\n"
     ]
    }
   ],
   "source": [
    "print(grid_search.best_params_)\n",
    "print(grid_search.best_score_)"
   ]
  },
  {
   "cell_type": "code",
   "execution_count": 36,
   "id": "2c3fa0d6",
   "metadata": {},
   "outputs": [
    {
     "data": {
      "text/plain": [
       "0.8232"
      ]
     },
     "execution_count": 36,
     "metadata": {},
     "output_type": "execute_result"
    }
   ],
   "source": [
    "best_dt = grid_search.best_estimator_\n",
    "best_dt.score(testX, testY)"
   ]
  },
  {
   "cell_type": "markdown",
   "id": "c75a69ce",
   "metadata": {},
   "source": [
    "<h4>Train using the Support Vector Classifier without Hyperparameter Tuning</h4>\n",
    "\n",
    "Results will show predicition results from the classification and confusion matrix.  "
   ]
  },
  {
   "cell_type": "code",
   "execution_count": 37,
   "id": "082cd335",
   "metadata": {},
   "outputs": [
    {
     "name": "stdout",
     "output_type": "stream",
     "text": [
      "              precision    recall  f1-score   support\n",
      "\n",
      "           0       0.82      1.00      0.90      3074\n",
      "           1       0.00      0.00      0.00        69\n",
      "           2       0.00      0.00      0.00       607\n",
      "\n",
      "    accuracy                           0.82      3750\n",
      "   macro avg       0.27      0.33      0.30      3750\n",
      "weighted avg       0.67      0.82      0.74      3750\n",
      "\n"
     ]
    },
    {
     "name": "stderr",
     "output_type": "stream",
     "text": [
      "C:\\Users\\prite\\anaconda3\\anaconda3-new2\\lib\\site-packages\\sklearn\\metrics\\_classification.py:1248: UndefinedMetricWarning: Precision and F-score are ill-defined and being set to 0.0 in labels with no predicted samples. Use `zero_division` parameter to control this behavior.\n",
      "  _warn_prf(average, modifier, msg_start, len(result))\n",
      "C:\\Users\\prite\\anaconda3\\anaconda3-new2\\lib\\site-packages\\sklearn\\metrics\\_classification.py:1248: UndefinedMetricWarning: Precision and F-score are ill-defined and being set to 0.0 in labels with no predicted samples. Use `zero_division` parameter to control this behavior.\n",
      "  _warn_prf(average, modifier, msg_start, len(result))\n",
      "C:\\Users\\prite\\anaconda3\\anaconda3-new2\\lib\\site-packages\\sklearn\\metrics\\_classification.py:1248: UndefinedMetricWarning: Precision and F-score are ill-defined and being set to 0.0 in labels with no predicted samples. Use `zero_division` parameter to control this behavior.\n",
      "  _warn_prf(average, modifier, msg_start, len(result))\n"
     ]
    }
   ],
   "source": [
    "from sklearn.metrics import classification_report, confusion_matrix\n",
    "\n",
    "model = SVC()\n",
    "model.fit(trainX, trainY)\n",
    "predictions = model.predict(testX)\n",
    "print(classification_report(testY, predictions))"
   ]
  },
  {
   "cell_type": "markdown",
   "id": "5c45660e",
   "metadata": {},
   "source": [
    "<h4>Training using the GridSearch CV model</h4>\n",
    "\n",
    "This will create a new estimator similiar to a classifier.  "
   ]
  },
  {
   "cell_type": "code",
   "execution_count": 38,
   "id": "cb02b330",
   "metadata": {},
   "outputs": [
    {
     "name": "stdout",
     "output_type": "stream",
     "text": [
      "Fitting 5 folds for each of 25 candidates, totalling 125 fits\n",
      "[CV 1/5] END ........C=0.1, gamma=1, kernel=rbf;, score=0.820 total time=  14.8s\n",
      "[CV 2/5] END ........C=0.1, gamma=1, kernel=rbf;, score=0.820 total time=  15.0s\n",
      "[CV 3/5] END ........C=0.1, gamma=1, kernel=rbf;, score=0.820 total time=  15.5s\n",
      "[CV 4/5] END ........C=0.1, gamma=1, kernel=rbf;, score=0.820 total time=  15.3s\n",
      "[CV 5/5] END ........C=0.1, gamma=1, kernel=rbf;, score=0.820 total time=  16.3s\n",
      "[CV 1/5] END ......C=0.1, gamma=0.1, kernel=rbf;, score=0.820 total time=   6.2s\n",
      "[CV 2/5] END ......C=0.1, gamma=0.1, kernel=rbf;, score=0.820 total time=   6.2s\n",
      "[CV 3/5] END ......C=0.1, gamma=0.1, kernel=rbf;, score=0.820 total time=   6.2s\n",
      "[CV 4/5] END ......C=0.1, gamma=0.1, kernel=rbf;, score=0.820 total time=   6.1s\n",
      "[CV 5/5] END ......C=0.1, gamma=0.1, kernel=rbf;, score=0.820 total time=   6.1s\n",
      "[CV 1/5] END .....C=0.1, gamma=0.01, kernel=rbf;, score=0.820 total time=   4.1s\n",
      "[CV 2/5] END .....C=0.1, gamma=0.01, kernel=rbf;, score=0.820 total time=   4.0s\n",
      "[CV 3/5] END .....C=0.1, gamma=0.01, kernel=rbf;, score=0.820 total time=   4.1s\n",
      "[CV 4/5] END .....C=0.1, gamma=0.01, kernel=rbf;, score=0.820 total time=   4.2s\n",
      "[CV 5/5] END .....C=0.1, gamma=0.01, kernel=rbf;, score=0.820 total time=   4.1s\n",
      "[CV 1/5] END ....C=0.1, gamma=0.001, kernel=rbf;, score=0.820 total time=   3.2s\n",
      "[CV 2/5] END ....C=0.1, gamma=0.001, kernel=rbf;, score=0.820 total time=   3.0s\n",
      "[CV 3/5] END ....C=0.1, gamma=0.001, kernel=rbf;, score=0.820 total time=   3.2s\n",
      "[CV 4/5] END ....C=0.1, gamma=0.001, kernel=rbf;, score=0.820 total time=   3.3s\n",
      "[CV 5/5] END ....C=0.1, gamma=0.001, kernel=rbf;, score=0.820 total time=   3.1s\n",
      "[CV 1/5] END ...C=0.1, gamma=0.0001, kernel=rbf;, score=0.820 total time=   2.7s\n",
      "[CV 2/5] END ...C=0.1, gamma=0.0001, kernel=rbf;, score=0.820 total time=   2.7s\n",
      "[CV 3/5] END ...C=0.1, gamma=0.0001, kernel=rbf;, score=0.820 total time=   2.6s\n",
      "[CV 4/5] END ...C=0.1, gamma=0.0001, kernel=rbf;, score=0.820 total time=   2.8s\n",
      "[CV 5/5] END ...C=0.1, gamma=0.0001, kernel=rbf;, score=0.820 total time=   2.6s\n",
      "[CV 1/5] END ..........C=1, gamma=1, kernel=rbf;, score=0.820 total time=  19.6s\n",
      "[CV 2/5] END ..........C=1, gamma=1, kernel=rbf;, score=0.820 total time=  18.5s\n",
      "[CV 3/5] END ..........C=1, gamma=1, kernel=rbf;, score=0.820 total time=  19.7s\n",
      "[CV 4/5] END ..........C=1, gamma=1, kernel=rbf;, score=0.820 total time=  19.5s\n",
      "[CV 5/5] END ..........C=1, gamma=1, kernel=rbf;, score=0.819 total time=  18.9s\n",
      "[CV 1/5] END ........C=1, gamma=0.1, kernel=rbf;, score=0.817 total time=   7.0s\n",
      "[CV 2/5] END ........C=1, gamma=0.1, kernel=rbf;, score=0.819 total time=   6.9s\n",
      "[CV 3/5] END ........C=1, gamma=0.1, kernel=rbf;, score=0.821 total time=   7.0s\n",
      "[CV 4/5] END ........C=1, gamma=0.1, kernel=rbf;, score=0.824 total time=   7.0s\n",
      "[CV 5/5] END ........C=1, gamma=0.1, kernel=rbf;, score=0.820 total time=   7.0s\n",
      "[CV 1/5] END .......C=1, gamma=0.01, kernel=rbf;, score=0.815 total time=   5.4s\n",
      "[CV 2/5] END .......C=1, gamma=0.01, kernel=rbf;, score=0.816 total time=   5.1s\n",
      "[CV 3/5] END .......C=1, gamma=0.01, kernel=rbf;, score=0.827 total time=   5.7s\n",
      "[CV 4/5] END .......C=1, gamma=0.01, kernel=rbf;, score=0.820 total time=   5.3s\n",
      "[CV 5/5] END .......C=1, gamma=0.01, kernel=rbf;, score=0.822 total time=   5.0s\n",
      "[CV 1/5] END ......C=1, gamma=0.001, kernel=rbf;, score=0.816 total time=   4.2s\n",
      "[CV 2/5] END ......C=1, gamma=0.001, kernel=rbf;, score=0.820 total time=   4.3s\n",
      "[CV 3/5] END ......C=1, gamma=0.001, kernel=rbf;, score=0.820 total time=   4.4s\n",
      "[CV 4/5] END ......C=1, gamma=0.001, kernel=rbf;, score=0.820 total time=   4.4s\n",
      "[CV 5/5] END ......C=1, gamma=0.001, kernel=rbf;, score=0.820 total time=   4.3s\n",
      "[CV 1/5] END .....C=1, gamma=0.0001, kernel=rbf;, score=0.820 total time=   3.4s\n",
      "[CV 2/5] END .....C=1, gamma=0.0001, kernel=rbf;, score=0.820 total time=   3.2s\n",
      "[CV 3/5] END .....C=1, gamma=0.0001, kernel=rbf;, score=0.820 total time=   3.3s\n",
      "[CV 4/5] END .....C=1, gamma=0.0001, kernel=rbf;, score=0.820 total time=   3.3s\n",
      "[CV 5/5] END .....C=1, gamma=0.0001, kernel=rbf;, score=0.820 total time=   4.2s\n",
      "[CV 1/5] END .........C=10, gamma=1, kernel=rbf;, score=0.819 total time=  31.1s\n",
      "[CV 2/5] END .........C=10, gamma=1, kernel=rbf;, score=0.817 total time=  29.7s\n",
      "[CV 3/5] END .........C=10, gamma=1, kernel=rbf;, score=0.819 total time=  29.5s\n",
      "[CV 4/5] END .........C=10, gamma=1, kernel=rbf;, score=0.820 total time=  29.7s\n",
      "[CV 5/5] END .........C=10, gamma=1, kernel=rbf;, score=0.819 total time=  29.8s\n",
      "[CV 1/5] END .......C=10, gamma=0.1, kernel=rbf;, score=0.793 total time=   8.9s\n",
      "[CV 2/5] END .......C=10, gamma=0.1, kernel=rbf;, score=0.786 total time=   9.0s\n",
      "[CV 3/5] END .......C=10, gamma=0.1, kernel=rbf;, score=0.801 total time=   9.1s\n",
      "[CV 4/5] END .......C=10, gamma=0.1, kernel=rbf;, score=0.804 total time=   9.5s\n",
      "[CV 5/5] END .......C=10, gamma=0.1, kernel=rbf;, score=0.794 total time=  10.1s\n",
      "[CV 1/5] END ......C=10, gamma=0.01, kernel=rbf;, score=0.812 total time=   6.2s\n",
      "[CV 2/5] END ......C=10, gamma=0.01, kernel=rbf;, score=0.815 total time=   6.0s\n",
      "[CV 3/5] END ......C=10, gamma=0.01, kernel=rbf;, score=0.827 total time=   6.5s\n",
      "[CV 4/5] END ......C=10, gamma=0.01, kernel=rbf;, score=0.821 total time=   6.3s\n",
      "[CV 5/5] END ......C=10, gamma=0.01, kernel=rbf;, score=0.822 total time=   6.0s\n",
      "[CV 1/5] END .....C=10, gamma=0.001, kernel=rbf;, score=0.816 total time=   6.2s\n",
      "[CV 2/5] END .....C=10, gamma=0.001, kernel=rbf;, score=0.823 total time=   6.0s\n",
      "[CV 3/5] END .....C=10, gamma=0.001, kernel=rbf;, score=0.819 total time=   6.9s\n",
      "[CV 4/5] END .....C=10, gamma=0.001, kernel=rbf;, score=0.821 total time=   6.8s\n",
      "[CV 5/5] END .....C=10, gamma=0.001, kernel=rbf;, score=0.823 total time=   6.1s\n",
      "[CV 1/5] END ....C=10, gamma=0.0001, kernel=rbf;, score=0.820 total time=   4.8s\n",
      "[CV 2/5] END ....C=10, gamma=0.0001, kernel=rbf;, score=0.820 total time=   4.6s\n",
      "[CV 3/5] END ....C=10, gamma=0.0001, kernel=rbf;, score=0.820 total time=   4.9s\n",
      "[CV 4/5] END ....C=10, gamma=0.0001, kernel=rbf;, score=0.820 total time=   5.0s\n",
      "[CV 5/5] END ....C=10, gamma=0.0001, kernel=rbf;, score=0.820 total time=   4.8s\n",
      "[CV 1/5] END ........C=100, gamma=1, kernel=rbf;, score=0.819 total time=  29.7s\n",
      "[CV 2/5] END ........C=100, gamma=1, kernel=rbf;, score=0.817 total time=  29.7s\n",
      "[CV 3/5] END ........C=100, gamma=1, kernel=rbf;, score=0.819 total time=  29.9s\n",
      "[CV 4/5] END ........C=100, gamma=1, kernel=rbf;, score=0.820 total time=  31.0s\n",
      "[CV 5/5] END ........C=100, gamma=1, kernel=rbf;, score=0.819 total time=  30.4s\n",
      "[CV 1/5] END ......C=100, gamma=0.1, kernel=rbf;, score=0.780 total time=   9.7s\n",
      "[CV 2/5] END ......C=100, gamma=0.1, kernel=rbf;, score=0.760 total time=   9.7s\n",
      "[CV 3/5] END ......C=100, gamma=0.1, kernel=rbf;, score=0.781 total time=   9.8s\n",
      "[CV 4/5] END ......C=100, gamma=0.1, kernel=rbf;, score=0.780 total time=  11.6s\n",
      "[CV 5/5] END ......C=100, gamma=0.1, kernel=rbf;, score=0.770 total time=  11.9s\n",
      "[CV 1/5] END .....C=100, gamma=0.01, kernel=rbf;, score=0.800 total time=  11.3s\n",
      "[CV 2/5] END .....C=100, gamma=0.01, kernel=rbf;, score=0.804 total time=  11.2s\n",
      "[CV 3/5] END .....C=100, gamma=0.01, kernel=rbf;, score=0.811 total time=  11.2s\n",
      "[CV 4/5] END .....C=100, gamma=0.01, kernel=rbf;, score=0.804 total time=  11.6s\n",
      "[CV 5/5] END .....C=100, gamma=0.01, kernel=rbf;, score=0.804 total time=  11.4s\n",
      "[CV 1/5] END ....C=100, gamma=0.001, kernel=rbf;, score=0.819 total time=  12.0s\n",
      "[CV 2/5] END ....C=100, gamma=0.001, kernel=rbf;, score=0.821 total time=  10.9s\n",
      "[CV 3/5] END ....C=100, gamma=0.001, kernel=rbf;, score=0.828 total time=  12.8s\n",
      "[CV 4/5] END ....C=100, gamma=0.001, kernel=rbf;, score=0.828 total time=  11.9s\n",
      "[CV 5/5] END ....C=100, gamma=0.001, kernel=rbf;, score=0.830 total time=  10.7s\n",
      "[CV 1/5] END ...C=100, gamma=0.0001, kernel=rbf;, score=0.816 total time=   7.9s\n",
      "[CV 2/5] END ...C=100, gamma=0.0001, kernel=rbf;, score=0.820 total time=   8.6s\n",
      "[CV 3/5] END ...C=100, gamma=0.0001, kernel=rbf;, score=0.820 total time=   9.5s\n",
      "[CV 4/5] END ...C=100, gamma=0.0001, kernel=rbf;, score=0.820 total time=   9.9s\n",
      "[CV 5/5] END ...C=100, gamma=0.0001, kernel=rbf;, score=0.820 total time=   8.7s\n",
      "[CV 1/5] END .......C=1000, gamma=1, kernel=rbf;, score=0.819 total time=  30.6s\n",
      "[CV 2/5] END .......C=1000, gamma=1, kernel=rbf;, score=0.817 total time=  30.3s\n",
      "[CV 3/5] END .......C=1000, gamma=1, kernel=rbf;, score=0.819 total time=  29.9s\n",
      "[CV 4/5] END .......C=1000, gamma=1, kernel=rbf;, score=0.820 total time=  30.1s\n",
      "[CV 5/5] END .......C=1000, gamma=1, kernel=rbf;, score=0.819 total time=  30.1s\n",
      "[CV 1/5] END .....C=1000, gamma=0.1, kernel=rbf;, score=0.777 total time=  10.0s\n",
      "[CV 2/5] END .....C=1000, gamma=0.1, kernel=rbf;, score=0.760 total time=   9.9s\n",
      "[CV 3/5] END .....C=1000, gamma=0.1, kernel=rbf;, score=0.779 total time=  11.3s\n",
      "[CV 4/5] END .....C=1000, gamma=0.1, kernel=rbf;, score=0.777 total time=   9.9s\n",
      "[CV 5/5] END .....C=1000, gamma=0.1, kernel=rbf;, score=0.770 total time=  11.2s\n",
      "[CV 1/5] END ....C=1000, gamma=0.01, kernel=rbf;, score=0.779 total time=  32.5s\n",
      "[CV 2/5] END ....C=1000, gamma=0.01, kernel=rbf;, score=0.775 total time=  33.7s\n",
      "[CV 3/5] END ....C=1000, gamma=0.01, kernel=rbf;, score=0.797 total time=  36.2s\n",
      "[CV 4/5] END ....C=1000, gamma=0.01, kernel=rbf;, score=0.782 total time=  34.7s\n",
      "[CV 5/5] END ....C=1000, gamma=0.01, kernel=rbf;, score=0.787 total time=  33.3s\n",
      "[CV 1/5] END ...C=1000, gamma=0.001, kernel=rbf;, score=0.812 total time=  27.8s\n",
      "[CV 2/5] END ...C=1000, gamma=0.001, kernel=rbf;, score=0.812 total time=  25.2s\n",
      "[CV 3/5] END ...C=1000, gamma=0.001, kernel=rbf;, score=0.831 total time=  30.4s\n",
      "[CV 4/5] END ...C=1000, gamma=0.001, kernel=rbf;, score=0.821 total time=  27.7s\n",
      "[CV 5/5] END ...C=1000, gamma=0.001, kernel=rbf;, score=0.825 total time=  23.6s\n",
      "[CV 1/5] END ..C=1000, gamma=0.0001, kernel=rbf;, score=0.817 total time=  33.5s\n",
      "[CV 2/5] END ..C=1000, gamma=0.0001, kernel=rbf;, score=0.822 total time=  31.2s\n",
      "[CV 3/5] END ..C=1000, gamma=0.0001, kernel=rbf;, score=0.821 total time=  37.6s\n",
      "[CV 4/5] END ..C=1000, gamma=0.0001, kernel=rbf;, score=0.820 total time=  34.8s\n",
      "[CV 5/5] END ..C=1000, gamma=0.0001, kernel=rbf;, score=0.821 total time=  29.8s\n"
     ]
    },
    {
     "data": {
      "text/plain": [
       "GridSearchCV(estimator=SVC(),\n",
       "             param_grid={'C': [0.1, 1, 10, 100, 1000],\n",
       "                         'gamma': [1, 0.1, 0.01, 0.001, 0.0001],\n",
       "                         'kernel': ['rbf']},\n",
       "             verbose=3)"
      ]
     },
     "execution_count": 38,
     "metadata": {},
     "output_type": "execute_result"
    }
   ],
   "source": [
    "from sklearn.model_selection import GridSearchCV\n",
    " \n",
    "# defining parameter range\n",
    "param_grid = {'C': [0.1, 1, 10, 100, 1000],\n",
    "              'gamma': [1, 0.1, 0.01, 0.001, 0.0001],\n",
    "              'kernel': ['rbf']}\n",
    " \n",
    "grid = GridSearchCV(SVC(), param_grid, refit = True, verbose = 3)\n",
    " \n",
    "# fitting the model for grid search\n",
    "grid.fit(trainX, trainY)"
   ]
  },
  {
   "cell_type": "code",
   "execution_count": 39,
   "id": "871c7ac6",
   "metadata": {},
   "outputs": [
    {
     "name": "stdout",
     "output_type": "stream",
     "text": [
      "{'C': 100, 'gamma': 0.001, 'kernel': 'rbf'}\n",
      "SVC(C=100, gamma=0.001)\n"
     ]
    }
   ],
   "source": [
    "# print best parameter after tuning\n",
    "print(grid.best_params_)\n",
    " \n",
    "# print how our model looks after hyper-parameter tuning\n",
    "print(grid.best_estimator_)"
   ]
  },
  {
   "cell_type": "code",
   "execution_count": 40,
   "id": "2ca94901",
   "metadata": {},
   "outputs": [
    {
     "name": "stdout",
     "output_type": "stream",
     "text": [
      "              precision    recall  f1-score   support\n",
      "\n",
      "           0       0.83      0.99      0.90      3074\n",
      "           1       0.00      0.00      0.00        69\n",
      "           2       0.62      0.10      0.17       607\n",
      "\n",
      "    accuracy                           0.83      3750\n",
      "   macro avg       0.49      0.36      0.36      3750\n",
      "weighted avg       0.78      0.83      0.77      3750\n",
      "\n"
     ]
    },
    {
     "name": "stderr",
     "output_type": "stream",
     "text": [
      "C:\\Users\\prite\\anaconda3\\anaconda3-new2\\lib\\site-packages\\sklearn\\metrics\\_classification.py:1248: UndefinedMetricWarning: Precision and F-score are ill-defined and being set to 0.0 in labels with no predicted samples. Use `zero_division` parameter to control this behavior.\n",
      "  _warn_prf(average, modifier, msg_start, len(result))\n",
      "C:\\Users\\prite\\anaconda3\\anaconda3-new2\\lib\\site-packages\\sklearn\\metrics\\_classification.py:1248: UndefinedMetricWarning: Precision and F-score are ill-defined and being set to 0.0 in labels with no predicted samples. Use `zero_division` parameter to control this behavior.\n",
      "  _warn_prf(average, modifier, msg_start, len(result))\n",
      "C:\\Users\\prite\\anaconda3\\anaconda3-new2\\lib\\site-packages\\sklearn\\metrics\\_classification.py:1248: UndefinedMetricWarning: Precision and F-score are ill-defined and being set to 0.0 in labels with no predicted samples. Use `zero_division` parameter to control this behavior.\n",
      "  _warn_prf(average, modifier, msg_start, len(result))\n"
     ]
    }
   ],
   "source": [
    "grid_predictions = grid.predict(testX)\n",
    "print(classification_report(testY, grid_predictions))"
   ]
  },
  {
   "cell_type": "code",
   "execution_count": null,
   "id": "d9ab7b8a",
   "metadata": {},
   "outputs": [],
   "source": []
  }
 ],
 "metadata": {
  "kernelspec": {
   "display_name": "Python 3 (ipykernel)",
   "language": "python",
   "name": "python3"
  },
  "language_info": {
   "codemirror_mode": {
    "name": "ipython",
    "version": 3
   },
   "file_extension": ".py",
   "mimetype": "text/x-python",
   "name": "python",
   "nbconvert_exporter": "python",
   "pygments_lexer": "ipython3",
   "version": "3.9.7"
  }
 },
 "nbformat": 4,
 "nbformat_minor": 5
}
